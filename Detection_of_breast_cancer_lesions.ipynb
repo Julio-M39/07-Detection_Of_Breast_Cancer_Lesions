{
 "cells": [
  {
   "cell_type": "markdown",
   "id": "fada32c2",
   "metadata": {},
   "source": [
    "### Detecção de Lesões de Câncer de Mama"
   ]
  },
  {
   "cell_type": "markdown",
   "id": "ca3ac15f",
   "metadata": {},
   "source": [
    "### Pacotes"
   ]
  },
  {
   "cell_type": "code",
   "execution_count": 1,
   "id": "4342f50b",
   "metadata": {},
   "outputs": [
    {
     "name": "stdout",
     "output_type": "stream",
     "text": [
      "Versão da Linguagem Python Usada Neste Jupyter Notebook: 3.7.6\n"
     ]
    }
   ],
   "source": [
    "# Versão da Linguagem Python\n",
    "from platform import python_version\n",
    "print('Versão da Linguagem Python Usada Neste Jupyter Notebook:', python_version())"
   ]
  },
  {
   "cell_type": "code",
   "execution_count": 66,
   "id": "1c2c560c",
   "metadata": {},
   "outputs": [],
   "source": [
    "# Imports\n",
    "import os\n",
    "import cv2\n",
    "import numpy as np\n",
    "import pandas as pd\n",
    "import imageio\n",
    "import skimage\n",
    "import skimage.io\n",
    "import skimage.transform\n",
    "import tensorflow\n",
    "import sklearn\n",
    "import itertools\n",
    "import shutil\n",
    "import matplotlib.pyplot as plt\n",
    "from tensorflow.keras.models import Sequential, Model\n",
    "from tensorflow.keras.layers import Dense, Dropout, Conv2D, MaxPooling2D, Flatten, GlobalAveragePooling2D\n",
    "from tensorflow.keras.optimizers import Adam\n",
    "from tensorflow.keras.metrics import categorical_crossentropy\n",
    "from tensorflow.keras.preprocessing.image import ImageDataGenerator\n",
    "from tensorflow.keras.callbacks import EarlyStopping, ReduceLROnPlateau, ModelCheckpoint\n",
    "from sklearn.utils import shuffle\n",
    "from sklearn.metrics import roc_auc_score\n",
    "from sklearn.metrics import confusion_matrix\n",
    "from sklearn.metrics import classification_report\n",
    "from sklearn.model_selection import train_test_split\n",
    "from numpy.random import seed\n",
    "seed(101)\n",
    "%matplotlib inline"
   ]
  },
  {
   "cell_type": "code",
   "execution_count": 3,
   "id": "47ddc090",
   "metadata": {},
   "outputs": [
    {
     "name": "stdout",
     "output_type": "stream",
     "text": [
      "Author: Júlio Monteiro\n",
      "\n",
      "matplotlib: 3.3.4\n",
      "imageio   : 2.13.5\n",
      "cv2       : 4.6.0\n",
      "numpy     : 1.18.5\n",
      "skimage   : 0.19.1\n",
      "tensorflow: 2.3.1\n",
      "pandas    : 1.0.3\n",
      "sklearn   : 1.0.2\n",
      "\n"
     ]
    }
   ],
   "source": [
    "# Versões dos pacotes usados neste jupyter notebook\n",
    "%reload_ext watermark\n",
    "%watermark -a \"Júlio Monteiro\" --iversions"
   ]
  },
  {
   "cell_type": "markdown",
   "id": "b6b4f02c",
   "metadata": {},
   "source": [
    "### Carregando os Dados"
   ]
  },
  {
   "cell_type": "code",
   "execution_count": 4,
   "id": "812cb273",
   "metadata": {},
   "outputs": [
    {
     "data": {
      "text/plain": [
       "279"
      ]
     },
     "execution_count": 4,
     "metadata": {},
     "output_type": "execute_result"
    }
   ],
   "source": [
    "# Listando o conteúdo da pasta\n",
    "pacientes = os.listdir('/media/datasets/IAMED/Cap05/IDC_regular_ps50_idx5')\n",
    "# Número de pacientes\n",
    "len(pacientes)"
   ]
  },
  {
   "cell_type": "code",
   "execution_count": 5,
   "id": "7e4cc6db",
   "metadata": {},
   "outputs": [],
   "source": [
    "# Definindo o nome da pasta para as imagens\n",
    "imagens_pacientes = 'imagens_pacientes'"
   ]
  },
  {
   "cell_type": "code",
   "execution_count": 6,
   "id": "6987bb2d",
   "metadata": {},
   "outputs": [],
   "source": [
    "# Removemos a pasta se existir. Se não existir, criamos.\n",
    "if os.path.exists(imagens_pacientes):\n",
    "    os.rmdir(imagens_pacientes)\n",
    "    os.mkdir(imagens_pacientes)\n",
    "else:\n",
    "    os.mkdir(imagens_pacientes)"
   ]
  },
  {
   "cell_type": "code",
   "execution_count": 7,
   "id": "f209f9f8",
   "metadata": {},
   "outputs": [
    {
     "name": "stdout",
     "output_type": "stream",
     "text": [
      "Cap05-Estudo-Caso2.ipynb  imagens_pacientes  modelo\t    Untitled.ipynb\r\n",
      "imagens\t\t\t  __MACOSX\t     tfjs_modelo_1\r\n"
     ]
    }
   ],
   "source": [
    "# Confirmando que a pasta foi criada\n",
    "!ls"
   ]
  },
  {
   "cell_type": "code",
   "execution_count": 8,
   "id": "4f93425b",
   "metadata": {},
   "outputs": [],
   "source": [
    "# Cria a lista de ids de pacientes\n",
    "lista_ids_pacientes = os.listdir('/media/datasets/IAMED/Cap05/IDC_regular_ps50_idx5')"
   ]
  },
  {
   "cell_type": "code",
   "execution_count": 9,
   "id": "f83e2510",
   "metadata": {},
   "outputs": [],
   "source": [
    "# Loop pelas pastas de pacientes para organizar as imagens em uma nova estrutura\n",
    "for paciente in lista_ids_pacientes:\n",
    "    \n",
    "    # Definindo os caminhos das imagens\n",
    "    path_0 = '/media/datasets/IAMED/Cap05/IDC_regular_ps50_idx5/' + str(paciente) + '/0'\n",
    "    path_1 = '/media/datasets/IAMED/Cap05/IDC_regular_ps50_idx5/' + str(paciente) + '/1'\n",
    "\n",
    "    # Lista de imagens da classe 0\n",
    "    file_list_0 = os.listdir(path_0)\n",
    "    \n",
    "    # Lista de imagens da classe 1\n",
    "    file_list_1 = os.listdir(path_1)\n",
    "\n",
    "    # Movendo as imagens da classe 0\n",
    "    for fname in file_list_0:\n",
    "        origem = os.path.join(path_0, fname)\n",
    "        destino = os.path.join(imagens_pacientes, fname)\n",
    "        shutil.copyfile(origem, destino)\n",
    "\n",
    "    # Movendo as imagens da classe 1\n",
    "    for fname in file_list_1:\n",
    "        origem = os.path.join(path_1, fname)\n",
    "        destino = os.path.join(imagens_pacientes, fname)\n",
    "        shutil.copyfile(origem, destino)"
   ]
  },
  {
   "cell_type": "code",
   "execution_count": 10,
   "id": "060f28bc",
   "metadata": {},
   "outputs": [
    {
     "data": {
      "text/plain": [
       "277524"
      ]
     },
     "execution_count": 10,
     "metadata": {},
     "output_type": "execute_result"
    }
   ],
   "source": [
    "# Checando o total de imagens\n",
    "len(os.listdir('imagens_pacientes'))"
   ]
  },
  {
   "cell_type": "markdown",
   "id": "67da049e",
   "metadata": {},
   "source": [
    "### Pré-Processamento das Imagens\n",
    "#### Preparando o Dataframe"
   ]
  },
  {
   "cell_type": "code",
   "execution_count": 11,
   "id": "17cb5ac1",
   "metadata": {},
   "outputs": [],
   "source": [
    "# Lista de imagens\n",
    "lista_imagens = os.listdir('imagens_pacientes')"
   ]
  },
  {
   "cell_type": "code",
   "execution_count": 12,
   "id": "c854524c",
   "metadata": {},
   "outputs": [
    {
     "data": {
      "text/plain": [
       "['12822_idx5_x951_y551_class1.png',\n",
       " '12819_idx5_x1151_y601_class0.png',\n",
       " '10300_idx5_x3201_y401_class0.png',\n",
       " '12890_idx5_x451_y1801_class0.png']"
      ]
     },
     "execution_count": 12,
     "metadata": {},
     "output_type": "execute_result"
    }
   ],
   "source": [
    "# Visualizando uma amostra\n",
    "lista_imagens[1:5]"
   ]
  },
  {
   "cell_type": "code",
   "execution_count": 13,
   "id": "a381f1df",
   "metadata": {},
   "outputs": [],
   "source": [
    "# Convertendo a lista para dataframe\n",
    "df_imagens = pd.DataFrame(lista_imagens, columns = ['id_imagem'])"
   ]
  },
  {
   "cell_type": "code",
   "execution_count": 14,
   "id": "f1e42e5f",
   "metadata": {},
   "outputs": [
    {
     "data": {
      "text/html": [
       "<div>\n",
       "<style scoped>\n",
       "    .dataframe tbody tr th:only-of-type {\n",
       "        vertical-align: middle;\n",
       "    }\n",
       "\n",
       "    .dataframe tbody tr th {\n",
       "        vertical-align: top;\n",
       "    }\n",
       "\n",
       "    .dataframe thead th {\n",
       "        text-align: right;\n",
       "    }\n",
       "</style>\n",
       "<table border=\"1\" class=\"dataframe\">\n",
       "  <thead>\n",
       "    <tr style=\"text-align: right;\">\n",
       "      <th></th>\n",
       "      <th>id_imagem</th>\n",
       "    </tr>\n",
       "  </thead>\n",
       "  <tbody>\n",
       "    <tr>\n",
       "      <th>0</th>\n",
       "      <td>12868_idx5_x1501_y551_class0.png</td>\n",
       "    </tr>\n",
       "    <tr>\n",
       "      <th>1</th>\n",
       "      <td>12822_idx5_x951_y551_class1.png</td>\n",
       "    </tr>\n",
       "    <tr>\n",
       "      <th>2</th>\n",
       "      <td>12819_idx5_x1151_y601_class0.png</td>\n",
       "    </tr>\n",
       "    <tr>\n",
       "      <th>3</th>\n",
       "      <td>10300_idx5_x3201_y401_class0.png</td>\n",
       "    </tr>\n",
       "    <tr>\n",
       "      <th>4</th>\n",
       "      <td>12890_idx5_x451_y1801_class0.png</td>\n",
       "    </tr>\n",
       "  </tbody>\n",
       "</table>\n",
       "</div>"
      ],
      "text/plain": [
       "                          id_imagem\n",
       "0  12868_idx5_x1501_y551_class0.png\n",
       "1   12822_idx5_x951_y551_class1.png\n",
       "2  12819_idx5_x1151_y601_class0.png\n",
       "3  10300_idx5_x3201_y401_class0.png\n",
       "4  12890_idx5_x451_y1801_class0.png"
      ]
     },
     "execution_count": 14,
     "metadata": {},
     "output_type": "execute_result"
    }
   ],
   "source": [
    "# Visualiza\n",
    "df_imagens.head()"
   ]
  },
  {
   "cell_type": "code",
   "execution_count": 15,
   "id": "ea17be33",
   "metadata": {},
   "outputs": [
    {
     "data": {
      "text/plain": [
       "(277524, 1)"
      ]
     },
     "execution_count": 15,
     "metadata": {},
     "output_type": "execute_result"
    }
   ],
   "source": [
    "# Shape\n",
    "df_imagens.shape"
   ]
  },
  {
   "cell_type": "code",
   "execution_count": 16,
   "id": "07d01e45",
   "metadata": {},
   "outputs": [],
   "source": [
    "# Função para extrair o id do paciente\n",
    "def extrai_id(x):\n",
    "    a = x.split('_')\n",
    "    patient_id = a[0]\n",
    "    \n",
    "    return patient_id"
   ]
  },
  {
   "cell_type": "code",
   "execution_count": 17,
   "id": "4339def2",
   "metadata": {},
   "outputs": [],
   "source": [
    "# Função para extrair a classe\n",
    "def extrai_classe(x):\n",
    "    a = x.split('_')\n",
    "    b = a[4]\n",
    "    target = b[5]\n",
    "    \n",
    "    return target"
   ]
  },
  {
   "cell_type": "code",
   "execution_count": 18,
   "id": "a9caef0b",
   "metadata": {},
   "outputs": [],
   "source": [
    "# Extraindo o id do paciente\n",
    "df_imagens['id_paciente'] = df_imagens['id_imagem'].apply(extrai_id)"
   ]
  },
  {
   "cell_type": "code",
   "execution_count": 19,
   "id": "a6c812c0",
   "metadata": {},
   "outputs": [],
   "source": [
    "# Extraindo a classe da imagem\n",
    "df_imagens['classe'] = df_imagens['id_imagem'].apply(extrai_classe)"
   ]
  },
  {
   "cell_type": "code",
   "execution_count": 20,
   "id": "327d7095",
   "metadata": {},
   "outputs": [
    {
     "data": {
      "text/html": [
       "<div>\n",
       "<style scoped>\n",
       "    .dataframe tbody tr th:only-of-type {\n",
       "        vertical-align: middle;\n",
       "    }\n",
       "\n",
       "    .dataframe tbody tr th {\n",
       "        vertical-align: top;\n",
       "    }\n",
       "\n",
       "    .dataframe thead th {\n",
       "        text-align: right;\n",
       "    }\n",
       "</style>\n",
       "<table border=\"1\" class=\"dataframe\">\n",
       "  <thead>\n",
       "    <tr style=\"text-align: right;\">\n",
       "      <th></th>\n",
       "      <th>id_imagem</th>\n",
       "      <th>id_paciente</th>\n",
       "      <th>classe</th>\n",
       "    </tr>\n",
       "  </thead>\n",
       "  <tbody>\n",
       "    <tr>\n",
       "      <th>0</th>\n",
       "      <td>12868_idx5_x1501_y551_class0.png</td>\n",
       "      <td>12868</td>\n",
       "      <td>0</td>\n",
       "    </tr>\n",
       "    <tr>\n",
       "      <th>1</th>\n",
       "      <td>12822_idx5_x951_y551_class1.png</td>\n",
       "      <td>12822</td>\n",
       "      <td>1</td>\n",
       "    </tr>\n",
       "    <tr>\n",
       "      <th>2</th>\n",
       "      <td>12819_idx5_x1151_y601_class0.png</td>\n",
       "      <td>12819</td>\n",
       "      <td>0</td>\n",
       "    </tr>\n",
       "    <tr>\n",
       "      <th>3</th>\n",
       "      <td>10300_idx5_x3201_y401_class0.png</td>\n",
       "      <td>10300</td>\n",
       "      <td>0</td>\n",
       "    </tr>\n",
       "    <tr>\n",
       "      <th>4</th>\n",
       "      <td>12890_idx5_x451_y1801_class0.png</td>\n",
       "      <td>12890</td>\n",
       "      <td>0</td>\n",
       "    </tr>\n",
       "  </tbody>\n",
       "</table>\n",
       "</div>"
      ],
      "text/plain": [
       "                          id_imagem id_paciente classe\n",
       "0  12868_idx5_x1501_y551_class0.png       12868      0\n",
       "1   12822_idx5_x951_y551_class1.png       12822      1\n",
       "2  12819_idx5_x1151_y601_class0.png       12819      0\n",
       "3  10300_idx5_x3201_y401_class0.png       10300      0\n",
       "4  12890_idx5_x451_y1801_class0.png       12890      0"
      ]
     },
     "execution_count": 20,
     "metadata": {},
     "output_type": "execute_result"
    }
   ],
   "source": [
    "# Visualiza\n",
    "df_imagens.head()"
   ]
  },
  {
   "cell_type": "code",
   "execution_count": 21,
   "id": "52187743",
   "metadata": {},
   "outputs": [
    {
     "data": {
      "text/plain": [
       "(277524, 3)"
      ]
     },
     "execution_count": 21,
     "metadata": {},
     "output_type": "execute_result"
    }
   ],
   "source": [
    "# Shape\n",
    "df_imagens.shape"
   ]
  },
  {
   "cell_type": "markdown",
   "id": "85f9e973",
   "metadata": {},
   "source": [
    "### Visualizando Amostras das Imagens"
   ]
  },
  {
   "cell_type": "code",
   "execution_count": 22,
   "id": "f58bc434",
   "metadata": {},
   "outputs": [],
   "source": [
    "# Função para o plot da imagem\n",
    "def plot_imagens(col_name, figure_cols, df):\n",
    "    \n",
    "    # Categoriias\n",
    "    categories = (df.groupby([col_name])[col_name].nunique()).index\n",
    "    \n",
    "    # Subplots\n",
    "    f, ax = plt.subplots(nrows = len(categories), \n",
    "                         ncols = figure_cols, \n",
    "                         figsize = (4 * figure_cols, 4 * len(categories))) \n",
    "    \n",
    "    # Loop pelas categorias\n",
    "    for i, cat in enumerate(categories):\n",
    "        \n",
    "        # Amostra\n",
    "        sample = df[df[col_name]==cat].sample(figure_cols) \n",
    "        \n",
    "        # Loop pelas colunas\n",
    "        for j in range(0, figure_cols):\n",
    "            file = 'imagens_pacientes/' + sample.iloc[j]['id_imagem']\n",
    "            im = cv2.imread(file)\n",
    "            ax[i, j].imshow(im, resample = True, cmap = 'gray')\n",
    "            ax[i, j].set_title(cat, fontsize=16)  \n",
    "    plt.tight_layout()\n",
    "    plt.show()"
   ]
  },
  {
   "cell_type": "code",
   "execution_count": 23,
   "id": "7b161a91",
   "metadata": {},
   "outputs": [
    {
     "data": {
      "image/png": "[encoded data removed]",
      "text/plain": [
       "<Figure size 1152x576 with 8 Axes>"
      ]
     },
     "metadata": {
      "needs_background": "light"
     },
     "output_type": "display_data"
    }
   ],
   "source": [
    "# Plot\n",
    "plot_imagens('classe', 4, df_imagens)"
   ]
  },
  {
   "cell_type": "code",
   "execution_count": 24,
   "id": "805d76c7",
   "metadata": {},
   "outputs": [
    {
     "data": {
      "text/plain": [
       "0    198738\n",
       "1     78786\n",
       "Name: classe, dtype: int64"
      ]
     },
     "execution_count": 24,
     "metadata": {},
     "output_type": "execute_result"
    }
   ],
   "source": [
    "# Checando o balanceamento de classe\n",
    "df_imagens['classe'].value_counts()"
   ]
  },
  {
   "cell_type": "markdown",
   "id": "051eb904",
   "metadata": {},
   "source": [
    "### Balanceamento das Classes"
   ]
  },
  {
   "cell_type": "markdown",
   "id": "e30f90ea",
   "metadata": {},
   "source": [
    "As classes estão desbalanceadas. Vamos resolver isso extraindo amostras aleatórias de imagens das duas classes. As amostras serão de mesmo tamanho e depois concatenamos o resultado.\n",
    "\n",
    "Usaremos aqui a técnica de undersampling."
   ]
  },
  {
   "cell_type": "code",
   "execution_count": 25,
   "id": "aee7db20",
   "metadata": {},
   "outputs": [],
   "source": [
    "# Tamanho de amostra\n",
    "SAMPLE_SIZE = 78786"
   ]
  },
  {
   "cell_type": "code",
   "execution_count": 26,
   "id": "2def5454",
   "metadata": {},
   "outputs": [],
   "source": [
    "# Extraindo amostra da classe majoritária\n",
    "df_classe0 = df_imagens[df_imagens['classe'] == '0'].sample(SAMPLE_SIZE, random_state = 101)"
   ]
  },
  {
   "cell_type": "code",
   "execution_count": 27,
   "id": "b9e1598f",
   "metadata": {},
   "outputs": [],
   "source": [
    "# Extraindo amostra da classe minoritária\n",
    "df_classe1 = df_imagens[df_imagens['classe'] == '1'].sample(SAMPLE_SIZE, random_state = 101)"
   ]
  },
  {
   "cell_type": "code",
   "execution_count": 28,
   "id": "844f7129",
   "metadata": {},
   "outputs": [],
   "source": [
    "# Concatenando os 2 dataframes\n",
    "df_imagens = pd.concat([df_classe0, df_classe1], axis = 0).reset_index(drop = True)"
   ]
  },
  {
   "cell_type": "code",
   "execution_count": 29,
   "id": "9cf7c417",
   "metadata": {},
   "outputs": [
    {
     "data": {
      "text/plain": [
       "0    78786\n",
       "1    78786\n",
       "Name: classe, dtype: int64"
      ]
     },
     "execution_count": 29,
     "metadata": {},
     "output_type": "execute_result"
    }
   ],
   "source": [
    "# Checando o balanceamento de classe\n",
    "df_imagens['classe'].value_counts()"
   ]
  },
  {
   "cell_type": "markdown",
   "id": "fe27b90e",
   "metadata": {},
   "source": [
    "### Divisão em Dados de Treino, Validação e Teste"
   ]
  },
  {
   "cell_type": "code",
   "execution_count": 30,
   "id": "77aa0f07",
   "metadata": {},
   "outputs": [],
   "source": [
    "# Definimos a variável target y\n",
    "y = df_imagens['classe']"
   ]
  },
  {
   "cell_type": "code",
   "execution_count": 31,
   "id": "ce14e5bb",
   "metadata": {},
   "outputs": [],
   "source": [
    "# Divisão em treino e validação com proporção 85/15\n",
    "df_imagens_treino, df_imagens_valid = train_test_split(df_imagens, \n",
    "                                                       test_size = 0.15, \n",
    "                                                       random_state = 101, \n",
    "                                                       stratify = y)"
   ]
  },
  {
   "cell_type": "code",
   "execution_count": 32,
   "id": "44069d91",
   "metadata": {},
   "outputs": [],
   "source": [
    "# Definimos a variável target y\n",
    "y = df_imagens_treino['classe']"
   ]
  },
  {
   "cell_type": "code",
   "execution_count": 33,
   "id": "1aad719e",
   "metadata": {},
   "outputs": [],
   "source": [
    "# Divisão em treino e teste com proporção 85/15\n",
    "df_imagens_treino, df_imagens_test = train_test_split(df_imagens_treino, \n",
    "                                                       test_size = 0.20, \n",
    "                                                       random_state = 101, \n",
    "                                                       stratify = y)"
   ]
  },
  {
   "cell_type": "markdown",
   "id": "39732b9a",
   "metadata": {},
   "source": [
    "#### Treinamento"
   ]
  },
  {
   "cell_type": "code",
   "execution_count": 34,
   "id": "b55c198c",
   "metadata": {},
   "outputs": [
    {
     "name": "stdout",
     "output_type": "stream",
     "text": [
      "(107148, 3)\n"
     ]
    }
   ],
   "source": [
    "# Verificamos o shape\n",
    "print(df_imagens_treino.shape)"
   ]
  },
  {
   "cell_type": "code",
   "execution_count": 35,
   "id": "2049d8cf",
   "metadata": {},
   "outputs": [
    {
     "data": {
      "text/plain": [
       "0    53574\n",
       "1    53574\n",
       "Name: classe, dtype: int64"
      ]
     },
     "execution_count": 35,
     "metadata": {},
     "output_type": "execute_result"
    }
   ],
   "source": [
    "# Checando o balanceamento de classe\n",
    "df_imagens_treino['classe'].value_counts()"
   ]
  },
  {
   "cell_type": "markdown",
   "id": "01bebbca",
   "metadata": {},
   "source": [
    "#### Validação"
   ]
  },
  {
   "cell_type": "code",
   "execution_count": 36,
   "id": "7f25d549",
   "metadata": {},
   "outputs": [
    {
     "name": "stdout",
     "output_type": "stream",
     "text": [
      "(23636, 3)\n"
     ]
    }
   ],
   "source": [
    "# Verificamos o shape\n",
    "print(df_imagens_valid.shape)"
   ]
  },
  {
   "cell_type": "code",
   "execution_count": 37,
   "id": "403d67cb",
   "metadata": {},
   "outputs": [
    {
     "data": {
      "text/plain": [
       "0    11818\n",
       "1    11818\n",
       "Name: classe, dtype: int64"
      ]
     },
     "execution_count": 37,
     "metadata": {},
     "output_type": "execute_result"
    }
   ],
   "source": [
    "# Checando o balanceamento de classe\n",
    "df_imagens_valid['classe'].value_counts()"
   ]
  },
  {
   "cell_type": "markdown",
   "id": "ff287c3e",
   "metadata": {},
   "source": [
    "#### Teste"
   ]
  },
  {
   "cell_type": "code",
   "execution_count": 38,
   "id": "0e4e1449",
   "metadata": {},
   "outputs": [
    {
     "name": "stdout",
     "output_type": "stream",
     "text": [
      "(26788, 3)\n"
     ]
    }
   ],
   "source": [
    "# Verificamos o shape\n",
    "print(df_imagens_test.shape)"
   ]
  },
  {
   "cell_type": "code",
   "execution_count": 39,
   "id": "131c30c7",
   "metadata": {},
   "outputs": [
    {
     "data": {
      "text/plain": [
       "0    13394\n",
       "1    13394\n",
       "Name: classe, dtype: int64"
      ]
     },
     "execution_count": 39,
     "metadata": {},
     "output_type": "execute_result"
    }
   ],
   "source": [
    "# Checando o balanceamento de classe\n",
    "df_imagens_test['classe'].value_counts()"
   ]
  },
  {
   "cell_type": "markdown",
   "id": "6309c7e7",
   "metadata": {},
   "source": [
    "### Estrutura Final das Imagens Pré-Processadas"
   ]
  },
  {
   "cell_type": "markdown",
   "id": "8c8ec0c3",
   "metadata": {},
   "source": [
    "Por fim, precisamos preparar a estrutura de pasta das imagens para o treinamento do modelo."
   ]
  },
  {
   "cell_type": "code",
   "execution_count": 40,
   "id": "16137588",
   "metadata": {},
   "outputs": [],
   "source": [
    "# Criaremos a pasta base\n",
    "pasta_base = 'pasta_base'"
   ]
  },
  {
   "cell_type": "code",
   "execution_count": 41,
   "id": "4a0c4b8c",
   "metadata": {},
   "outputs": [],
   "source": [
    "# Removemos a pasta se existir. Se não existir, criamos.\n",
    "if os.path.exists(pasta_base):\n",
    "    os.rmdir(pasta_base)\n",
    "    os.mkdir(pasta_base)\n",
    "else:\n",
    "    os.mkdir(pasta_base)"
   ]
  },
  {
   "cell_type": "code",
   "execution_count": 42,
   "id": "d0143fe2",
   "metadata": {},
   "outputs": [],
   "source": [
    "# Agora criamos a pasta para as imagens de treino\n",
    "imagens_treino = os.path.join(pasta_base, 'imagens_treino')\n",
    "\n",
    "# Removemos a pasta se existir. Se não existir, criamos.\n",
    "if os.path.exists(imagens_treino):\n",
    "    os.rmdir(imagens_treino)\n",
    "    os.mkdir(imagens_treino)\n",
    "else:\n",
    "    os.mkdir(imagens_treino)"
   ]
  },
  {
   "cell_type": "code",
   "execution_count": 43,
   "id": "713fff79",
   "metadata": {},
   "outputs": [],
   "source": [
    "# Estrutura dentro da pasta de treino\n",
    "a_no_idc = os.path.join(imagens_treino, 'a_no_idc')\n",
    "os.mkdir(a_no_idc)\n",
    "b_has_idc = os.path.join(imagens_treino, 'b_has_idc')\n",
    "os.mkdir(b_has_idc)"
   ]
  },
  {
   "cell_type": "code",
   "execution_count": 44,
   "id": "e1105048",
   "metadata": {},
   "outputs": [],
   "source": [
    "# Agora criamos a pasta para as imagens de validação\n",
    "imagens_valid = os.path.join(pasta_base, 'imagens_valid')\n",
    "\n",
    "# Removemos a pasta se existir. Se não existir, criamos.\n",
    "if os.path.exists(imagens_valid):\n",
    "    os.rmdir(imagens_valid)\n",
    "    os.mkdir(imagens_valid)\n",
    "else:\n",
    "    os.mkdir(imagens_valid)"
   ]
  },
  {
   "cell_type": "code",
   "execution_count": 45,
   "id": "475bb7a4",
   "metadata": {},
   "outputs": [],
   "source": [
    "# Estrutura dentro da pasta de validação\n",
    "a_no_idc = os.path.join(imagens_valid, 'a_no_idc')\n",
    "os.mkdir(a_no_idc)\n",
    "b_has_idc = os.path.join(imagens_valid, 'b_has_idc')\n",
    "os.mkdir(b_has_idc)"
   ]
  },
  {
   "cell_type": "code",
   "execution_count": 46,
   "id": "3764bd78",
   "metadata": {},
   "outputs": [],
   "source": [
    "# Agora criamos a pasta para as imagens de teste\n",
    "imagens_test = os.path.join(pasta_base, 'imagens_test')\n",
    "\n",
    "# Removemos a pasta se existir. Se não existir, criamos.\n",
    "if os.path.exists(imagens_test):\n",
    "    os.rmdir(imagens_test)\n",
    "    os.mkdir(imagens_test)\n",
    "else:\n",
    "    os.mkdir(imagens_test)"
   ]
  },
  {
   "cell_type": "code",
   "execution_count": 47,
   "id": "3ef2be2e",
   "metadata": {},
   "outputs": [],
   "source": [
    "# Estrutura dentro da pasta de teste\n",
    "a_no_idc = os.path.join(imagens_test, 'a_no_idc')\n",
    "os.mkdir(a_no_idc)\n",
    "b_has_idc = os.path.join(imagens_test, 'b_has_idc')\n",
    "os.mkdir(b_has_idc)"
   ]
  },
  {
   "cell_type": "markdown",
   "id": "03af40a1",
   "metadata": {},
   "source": [
    "Podemos então transferir as imagens para as estruturas."
   ]
  },
  {
   "cell_type": "code",
   "execution_count": 48,
   "id": "a850f129",
   "metadata": {},
   "outputs": [],
   "source": [
    "# Colocamos os ids como índice\n",
    "df_imagens.set_index('id_imagem', inplace = True)"
   ]
  },
  {
   "cell_type": "code",
   "execution_count": 49,
   "id": "1d938718",
   "metadata": {},
   "outputs": [],
   "source": [
    "# Lista de imagens de treino, validação e teste\n",
    "lista_treino = list(df_imagens_treino['id_imagem'])\n",
    "lista_valid = list(df_imagens_valid['id_imagem'])\n",
    "lista_test = list(df_imagens_test['id_imagem'])"
   ]
  },
  {
   "cell_type": "code",
   "execution_count": 50,
   "id": "7efd4ead",
   "metadata": {},
   "outputs": [],
   "source": [
    "# Transferimos as imagens de treino\n",
    "for image in lista_treino:\n",
    "    \n",
    "    fname = image\n",
    "    target = df_imagens.loc[image, 'classe']\n",
    "    \n",
    "    if target == '0':\n",
    "        label = 'a_no_idc'\n",
    "    if target == '1':\n",
    "        label = 'b_has_idc'\n",
    "    \n",
    "    origem = os.path.join(imagens_pacientes, fname)\n",
    "    destino = os.path.join(imagens_treino, label, fname)\n",
    "    shutil.move(origem, destino)"
   ]
  },
  {
   "cell_type": "code",
   "execution_count": 51,
   "id": "d71cab63",
   "metadata": {},
   "outputs": [],
   "source": [
    "# Transferimos as imagens de validação\n",
    "for image in lista_valid:\n",
    "    \n",
    "    fname = image\n",
    "    target = df_imagens.loc[image, 'classe']\n",
    "    \n",
    "    if target == '0':\n",
    "        label = 'a_no_idc'\n",
    "    if target == '1':\n",
    "        label = 'b_has_idc'\n",
    "    \n",
    "    origem = os.path.join(imagens_pacientes, fname)\n",
    "    destino = os.path.join(imagens_valid, label, fname)\n",
    "    shutil.move(origem, destino)"
   ]
  },
  {
   "cell_type": "code",
   "execution_count": 52,
   "id": "2713e362",
   "metadata": {},
   "outputs": [],
   "source": [
    "# Transferimos as imagens de teste\n",
    "for image in lista_test:\n",
    "    \n",
    "    fname = image\n",
    "    target = df_imagens.loc[image, 'classe']\n",
    "    \n",
    "    if target == '0':\n",
    "        label = 'a_no_idc'\n",
    "    if target == '1':\n",
    "        label = 'b_has_idc'\n",
    "    \n",
    "    origem = os.path.join(imagens_pacientes, fname)\n",
    "    destino = os.path.join(imagens_test, label, fname)\n",
    "    shutil.move(origem, destino)"
   ]
  },
  {
   "cell_type": "markdown",
   "id": "3ce66667",
   "metadata": {},
   "source": [
    "### Configurando os Generators"
   ]
  },
  {
   "cell_type": "code",
   "execution_count": 116,
   "id": "3586bb19",
   "metadata": {},
   "outputs": [],
   "source": [
    "# Variáveis para as pastas das imagens\n",
    "train_path = 'pasta_base/imagens_treino'\n",
    "valid_path = 'pasta_base/imagens_valid'\n",
    "test_path = 'pasta_base/imagens_test'"
   ]
  },
  {
   "cell_type": "code",
   "execution_count": 117,
   "id": "fe16d08e",
   "metadata": {},
   "outputs": [],
   "source": [
    "# Números de amostras\n",
    "num_train_samples = len(df_imagens_treino)\n",
    "num_val_samples = len(df_imagens_valid)\n",
    "num_test_samples = len(df_imagens_test)"
   ]
  },
  {
   "cell_type": "code",
   "execution_count": 118,
   "id": "942adffb",
   "metadata": {},
   "outputs": [],
   "source": [
    "# Tamanho do batch\n",
    "train_batch_size = 8\n",
    "val_batch_size = 8\n",
    "test_batch_size = 1"
   ]
  },
  {
   "cell_type": "code",
   "execution_count": 119,
   "id": "c4ff5e78",
   "metadata": {},
   "outputs": [],
   "source": [
    "# Número de steps\n",
    "train_steps = np.ceil(num_train_samples / train_batch_size)\n",
    "val_steps = np.ceil(num_val_samples / val_batch_size)\n",
    "test_steps = np.ceil(num_test_samples / test_batch_size)"
   ]
  },
  {
   "cell_type": "code",
   "execution_count": 120,
   "id": "113bd633",
   "metadata": {},
   "outputs": [],
   "source": [
    "# Dimensão das imagens\n",
    "IMAGE_SIZE = 50"
   ]
  },
  {
   "cell_type": "code",
   "execution_count": 121,
   "id": "b18a9f0c",
   "metadata": {},
   "outputs": [],
   "source": [
    "# Data generator\n",
    "datagen = ImageDataGenerator(rescale = 1.0/255)"
   ]
  },
  {
   "cell_type": "code",
   "execution_count": 122,
   "id": "a89d2eee",
   "metadata": {},
   "outputs": [
    {
     "name": "stdout",
     "output_type": "stream",
     "text": [
      "Found 107148 images belonging to 2 classes.\n"
     ]
    }
   ],
   "source": [
    "# Data generator de treino\n",
    "train_gen = datagen.flow_from_directory(train_path,\n",
    "                                        target_size = (IMAGE_SIZE, IMAGE_SIZE),\n",
    "                                        batch_size = train_batch_size,\n",
    "                                        class_mode = 'categorical')"
   ]
  },
  {
   "cell_type": "code",
   "execution_count": 123,
   "id": "a46a2f6b",
   "metadata": {},
   "outputs": [
    {
     "name": "stdout",
     "output_type": "stream",
     "text": [
      "Found 23636 images belonging to 2 classes.\n"
     ]
    }
   ],
   "source": [
    "# Data generator de validação\n",
    "val_gen = datagen.flow_from_directory(valid_path,\n",
    "                                      target_size = (IMAGE_SIZE, IMAGE_SIZE),\n",
    "                                      batch_size = val_batch_size,\n",
    "                                      class_mode = 'categorical')"
   ]
  },
  {
   "cell_type": "code",
   "execution_count": 124,
   "id": "5d39e8af",
   "metadata": {},
   "outputs": [
    {
     "name": "stdout",
     "output_type": "stream",
     "text": [
      "Found 26788 images belonging to 2 classes.\n"
     ]
    }
   ],
   "source": [
    "# Data generator de teste\n",
    "test_gen = datagen.flow_from_directory(test_path,\n",
    "                                       target_size = (IMAGE_SIZE, IMAGE_SIZE),\n",
    "                                       batch_size = 1,\n",
    "                                       class_mode = 'categorical',\n",
    "                                       shuffle = False)"
   ]
  },
  {
   "cell_type": "markdown",
   "id": "b3a1d896",
   "metadata": {},
   "source": [
    "### Construção do Modelo"
   ]
  },
  {
   "cell_type": "code",
   "execution_count": 177,
   "id": "874757c6",
   "metadata": {},
   "outputs": [],
   "source": [
    "# Criamos o modelo base\n",
    "modelo_base = tensorflow.keras.applications.VGG16(weights = 'imagenet', \n",
    "                                                include_top = False, \n",
    "                                                input_shape = (50,50,3))"
   ]
  },
  {
   "cell_type": "code",
   "execution_count": 178,
   "id": "956323df",
   "metadata": {},
   "outputs": [
    {
     "name": "stdout",
     "output_type": "stream",
     "text": [
      "Model: \"vgg16\"\n",
      "_________________________________________________________________\n",
      "Layer (type)                 Output Shape              Param #   \n",
      "=================================================================\n",
      "input_12 (InputLayer)        [(None, 50, 50, 3)]       0         \n",
      "_________________________________________________________________\n",
      "block1_conv1 (Conv2D)        (None, 50, 50, 64)        1792      \n",
      "_________________________________________________________________\n",
      "block1_conv2 (Conv2D)        (None, 50, 50, 64)        36928     \n",
      "_________________________________________________________________\n",
      "block1_pool (MaxPooling2D)   (None, 25, 25, 64)        0         \n",
      "_________________________________________________________________\n",
      "block2_conv1 (Conv2D)        (None, 25, 25, 128)       73856     \n",
      "_________________________________________________________________\n",
      "block2_conv2 (Conv2D)        (None, 25, 25, 128)       147584    \n",
      "_________________________________________________________________\n",
      "block2_pool (MaxPooling2D)   (None, 12, 12, 128)       0         \n",
      "_________________________________________________________________\n",
      "block3_conv1 (Conv2D)        (None, 12, 12, 256)       295168    \n",
      "_________________________________________________________________\n",
      "block3_conv2 (Conv2D)        (None, 12, 12, 256)       590080    \n",
      "_________________________________________________________________\n",
      "block3_conv3 (Conv2D)        (None, 12, 12, 256)       590080    \n",
      "_________________________________________________________________\n",
      "block3_pool (MaxPooling2D)   (None, 6, 6, 256)         0         \n",
      "_________________________________________________________________\n",
      "block4_conv1 (Conv2D)        (None, 6, 6, 512)         1180160   \n",
      "_________________________________________________________________\n",
      "block4_conv2 (Conv2D)        (None, 6, 6, 512)         2359808   \n",
      "_________________________________________________________________\n",
      "block4_conv3 (Conv2D)        (None, 6, 6, 512)         2359808   \n",
      "_________________________________________________________________\n",
      "block4_pool (MaxPooling2D)   (None, 3, 3, 512)         0         \n",
      "_________________________________________________________________\n",
      "block5_conv1 (Conv2D)        (None, 3, 3, 512)         2359808   \n",
      "_________________________________________________________________\n",
      "block5_conv2 (Conv2D)        (None, 3, 3, 512)         2359808   \n",
      "_________________________________________________________________\n",
      "block5_conv3 (Conv2D)        (None, 3, 3, 512)         2359808   \n",
      "_________________________________________________________________\n",
      "block5_pool (MaxPooling2D)   (None, 1, 1, 512)         0         \n",
      "=================================================================\n",
      "Total params: 14,714,688\n",
      "Trainable params: 14,714,688\n",
      "Non-trainable params: 0\n",
      "_________________________________________________________________\n"
     ]
    }
   ],
   "source": [
    "# Sumário do modelo base\n",
    "modelo_base.summary()"
   ]
  },
  {
   "cell_type": "code",
   "execution_count": 179,
   "id": "1f391a1f",
   "metadata": {},
   "outputs": [],
   "source": [
    "# Adicionamos nossas camadas ao modelo_base\n",
    "\n",
    "# Cria a sequência de camadas\n",
    "add_model = Sequential()\n",
    "\n",
    "# Adiciona primeiro o modelo base\n",
    "add_model.add(modelo_base)\n",
    "\n",
    "# Precisamos de uma camada global de Pooling\n",
    "add_model.add(GlobalAveragePooling2D())\n",
    "\n",
    "# Dropout para regularização e evitar overfitting\n",
    "add_model.add(Dropout(0.6))\n",
    "\n",
    "# 1º Camada densa\n",
    "add_model.add(Dense(16, activation = 'relu'))\n",
    "add_model.add(Dropout(0.6))\n",
    "\n",
    "# Camada de saida com ativação softmax para previsão das probabilidades das classes\n",
    "add_model.add(Dense(2, activation = 'softmax'))"
   ]
  },
  {
   "cell_type": "code",
   "execution_count": 180,
   "id": "c8858121",
   "metadata": {},
   "outputs": [],
   "source": [
    "# Cria o modelo final\n",
    "modelo_final = add_model"
   ]
  },
  {
   "cell_type": "code",
   "execution_count": 181,
   "id": "18197ddc",
   "metadata": {},
   "outputs": [
    {
     "name": "stdout",
     "output_type": "stream",
     "text": [
      "Model: \"sequential_11\"\n",
      "_________________________________________________________________\n",
      "Layer (type)                 Output Shape              Param #   \n",
      "=================================================================\n",
      "vgg16 (Functional)           (None, 1, 1, 512)         14714688  \n",
      "_________________________________________________________________\n",
      "global_average_pooling2d_10  (None, 512)               0         \n",
      "_________________________________________________________________\n",
      "dropout_20 (Dropout)         (None, 512)               0         \n",
      "_________________________________________________________________\n",
      "dense_20 (Dense)             (None, 16)                8208      \n",
      "_________________________________________________________________\n",
      "dropout_21 (Dropout)         (None, 16)                0         \n",
      "_________________________________________________________________\n",
      "dense_21 (Dense)             (None, 2)                 34        \n",
      "=================================================================\n",
      "Total params: 14,722,930\n",
      "Trainable params: 14,722,930\n",
      "Non-trainable params: 0\n",
      "_________________________________________________________________\n"
     ]
    }
   ],
   "source": [
    "# Sumário do modelo final\n",
    "modelo_final.summary()"
   ]
  },
  {
   "cell_type": "code",
   "execution_count": 182,
   "id": "6f382591",
   "metadata": {},
   "outputs": [],
   "source": [
    "# Cria o otimizador\n",
    "otimizador = Adam(lr = 0.0000001)\n",
    "\n",
    "# Compilação do modelo\n",
    "modelo_final.compile(optimizer = otimizador, \n",
    "              loss = 'binary_crossentropy', \n",
    "              metrics = ['accuracy'])"
   ]
  },
  {
   "cell_type": "code",
   "execution_count": 183,
   "id": "b797d006",
   "metadata": {},
   "outputs": [],
   "source": [
    "# Checkpoint para salvar o modelo\n",
    "checkpoint = ModelCheckpoint('modelo/modelo.h5', \n",
    "                             monitor = 'val_loss', \n",
    "                             verbose = 1, \n",
    "                             save_best_only = True, \n",
    "                             mode = 'min')"
   ]
  },
  {
   "cell_type": "code",
   "execution_count": 184,
   "id": "9fdd5878",
   "metadata": {},
   "outputs": [],
   "source": [
    "# Reduziremos a taxa de aprendizado\n",
    "reduce_lr = ReduceLROnPlateau(monitor = 'val_loss', \n",
    "                              factor = 0.5, \n",
    "                              patience = 6, \n",
    "                              verbose = 1, \n",
    "                              mode = 'min', \n",
    "                              min_lr = 0.00000001)  "
   ]
  },
  {
   "cell_type": "code",
   "execution_count": 185,
   "id": "5c735f92",
   "metadata": {},
   "outputs": [],
   "source": [
    "# Criamos a lista de callbacks\n",
    "callbacks_list = [checkpoint, reduce_lr]"
   ]
  },
  {
   "cell_type": "code",
   "execution_count": 186,
   "id": "1246fe4a",
   "metadata": {},
   "outputs": [
    {
     "name": "stdout",
     "output_type": "stream",
     "text": [
      "Epoch 1/100\n",
      "13390/13394 [============================>.] - ETA: 0s - loss: 0.7842 - accuracy: 0.5726\n",
      "Epoch 00001: val_loss improved from inf to 0.57328, saving model to modelo/modelo.h5\n",
      "13394/13394 [==============================] - 180s 13ms/step - loss: 0.7841 - accuracy: 0.5726 - val_loss: 0.5733 - val_accuracy: 0.7095\n",
      "Epoch 2/100\n",
      "13390/13394 [============================>.] - ETA: 0s - loss: 0.6409 - accuracy: 0.6440\n",
      "Epoch 00002: val_loss improved from 0.57328 to 0.54007, saving model to modelo/modelo.h5\n",
      "13394/13394 [==============================] - 180s 13ms/step - loss: 0.6409 - accuracy: 0.6441 - val_loss: 0.5401 - val_accuracy: 0.7368\n",
      "Epoch 3/100\n",
      "13392/13394 [============================>.] - ETA: 0s - loss: 0.5996 - accuracy: 0.6802\n",
      "Epoch 00003: val_loss improved from 0.54007 to 0.51441, saving model to modelo/modelo.h5\n",
      "13394/13394 [==============================] - 179s 13ms/step - loss: 0.5996 - accuracy: 0.6802 - val_loss: 0.5144 - val_accuracy: 0.7807\n",
      "Epoch 4/100\n",
      "13391/13394 [============================>.] - ETA: 0s - loss: 0.5716 - accuracy: 0.7048\n",
      "Epoch 00004: val_loss improved from 0.51441 to 0.49024, saving model to modelo/modelo.h5\n",
      "13394/13394 [==============================] - 179s 13ms/step - loss: 0.5716 - accuracy: 0.7048 - val_loss: 0.4902 - val_accuracy: 0.7928\n",
      "Epoch 5/100\n",
      "13394/13394 [==============================] - ETA: 0s - loss: 0.5482 - accuracy: 0.7274\n",
      "Epoch 00005: val_loss improved from 0.49024 to 0.47187, saving model to modelo/modelo.h5\n",
      "13394/13394 [==============================] - 179s 13ms/step - loss: 0.5482 - accuracy: 0.7274 - val_loss: 0.4719 - val_accuracy: 0.7989\n",
      "Epoch 6/100\n",
      "13391/13394 [============================>.] - ETA: 0s - loss: 0.5266 - accuracy: 0.7454\n",
      "Epoch 00006: val_loss improved from 0.47187 to 0.45165, saving model to modelo/modelo.h5\n",
      "13394/13394 [==============================] - 179s 13ms/step - loss: 0.5266 - accuracy: 0.7453 - val_loss: 0.4516 - val_accuracy: 0.8019\n",
      "Epoch 7/100\n",
      "13392/13394 [============================>.] - ETA: 0s - loss: 0.5102 - accuracy: 0.7626\n",
      "Epoch 00007: val_loss improved from 0.45165 to 0.43653, saving model to modelo/modelo.h5\n",
      "13394/13394 [==============================] - 180s 13ms/step - loss: 0.5101 - accuracy: 0.7626 - val_loss: 0.4365 - val_accuracy: 0.8084\n",
      "Epoch 8/100\n",
      "13392/13394 [============================>.] - ETA: 0s - loss: 0.4956 - accuracy: 0.7704\n",
      "Epoch 00008: val_loss improved from 0.43653 to 0.43112, saving model to modelo/modelo.h5\n",
      "13394/13394 [==============================] - 179s 13ms/step - loss: 0.4956 - accuracy: 0.7704 - val_loss: 0.4311 - val_accuracy: 0.8116\n",
      "Epoch 9/100\n",
      "13391/13394 [============================>.] - ETA: 0s - loss: 0.4914 - accuracy: 0.7751\n",
      "Epoch 00009: val_loss improved from 0.43112 to 0.42293, saving model to modelo/modelo.h5\n",
      "13394/13394 [==============================] - 179s 13ms/step - loss: 0.4914 - accuracy: 0.7751 - val_loss: 0.4229 - val_accuracy: 0.8149\n",
      "Epoch 10/100\n",
      "13391/13394 [============================>.] - ETA: 0s - loss: 0.4829 - accuracy: 0.7804\n",
      "Epoch 00010: val_loss improved from 0.42293 to 0.41387, saving model to modelo/modelo.h5\n",
      "13394/13394 [==============================] - 179s 13ms/step - loss: 0.4829 - accuracy: 0.7804 - val_loss: 0.4139 - val_accuracy: 0.8161\n",
      "Epoch 11/100\n",
      "13390/13394 [============================>.] - ETA: 0s - loss: 0.4769 - accuracy: 0.7839\n",
      "Epoch 00011: val_loss did not improve from 0.41387\n",
      "13394/13394 [==============================] - 179s 13ms/step - loss: 0.4768 - accuracy: 0.7840 - val_loss: 0.4153 - val_accuracy: 0.8193\n",
      "Epoch 12/100\n",
      "13392/13394 [============================>.] - ETA: 0s - loss: 0.4735 - accuracy: 0.7879\n",
      "Epoch 00012: val_loss improved from 0.41387 to 0.40604, saving model to modelo/modelo.h5\n",
      "13394/13394 [==============================] - 179s 13ms/step - loss: 0.4735 - accuracy: 0.7879 - val_loss: 0.4060 - val_accuracy: 0.8212\n",
      "Epoch 13/100\n",
      "13393/13394 [============================>.] - ETA: 0s - loss: 0.4651 - accuracy: 0.7918\n",
      "Epoch 00013: val_loss improved from 0.40604 to 0.40028, saving model to modelo/modelo.h5\n",
      "13394/13394 [==============================] - 179s 13ms/step - loss: 0.4651 - accuracy: 0.7918 - val_loss: 0.4003 - val_accuracy: 0.8242\n",
      "Epoch 14/100\n",
      "13393/13394 [============================>.] - ETA: 0s - loss: 0.4614 - accuracy: 0.7931\n",
      "Epoch 00014: val_loss improved from 0.40028 to 0.39732, saving model to modelo/modelo.h5\n",
      "13394/13394 [==============================] - 179s 13ms/step - loss: 0.4614 - accuracy: 0.7931 - val_loss: 0.3973 - val_accuracy: 0.8245\n",
      "Epoch 15/100\n",
      "13393/13394 [============================>.] - ETA: 0s - loss: 0.4585 - accuracy: 0.7958\n",
      "Epoch 00015: val_loss improved from 0.39732 to 0.39611, saving model to modelo/modelo.h5\n",
      "13394/13394 [==============================] - 179s 13ms/step - loss: 0.4585 - accuracy: 0.7957 - val_loss: 0.3961 - val_accuracy: 0.8274\n",
      "Epoch 16/100\n",
      "13394/13394 [==============================] - ETA: 0s - loss: 0.4554 - accuracy: 0.7994\n",
      "Epoch 00016: val_loss improved from 0.39611 to 0.39149, saving model to modelo/modelo.h5\n",
      "13394/13394 [==============================] - 179s 13ms/step - loss: 0.4554 - accuracy: 0.7994 - val_loss: 0.3915 - val_accuracy: 0.8287\n",
      "Epoch 17/100\n",
      "13390/13394 [============================>.] - ETA: 0s - loss: 0.4529 - accuracy: 0.7994\n",
      "Epoch 00017: val_loss improved from 0.39149 to 0.38882, saving model to modelo/modelo.h5\n",
      "13394/13394 [==============================] - 179s 13ms/step - loss: 0.4530 - accuracy: 0.7994 - val_loss: 0.3888 - val_accuracy: 0.8297\n",
      "Epoch 18/100\n",
      "13391/13394 [============================>.] - ETA: 0s - loss: 0.4501 - accuracy: 0.8033\n",
      "Epoch 00018: val_loss improved from 0.38882 to 0.38583, saving model to modelo/modelo.h5\n",
      "13394/13394 [==============================] - 179s 13ms/step - loss: 0.4501 - accuracy: 0.8033 - val_loss: 0.3858 - val_accuracy: 0.8320\n",
      "Epoch 19/100\n",
      "13393/13394 [============================>.] - ETA: 0s - loss: 0.4476 - accuracy: 0.8045\n",
      "Epoch 00019: val_loss improved from 0.38583 to 0.38314, saving model to modelo/modelo.h5\n",
      "13394/13394 [==============================] - 179s 13ms/step - loss: 0.4476 - accuracy: 0.8045 - val_loss: 0.3831 - val_accuracy: 0.8331\n",
      "Epoch 20/100\n",
      "13391/13394 [============================>.] - ETA: 0s - loss: 0.4444 - accuracy: 0.8053\n",
      "Epoch 00020: val_loss improved from 0.38314 to 0.38100, saving model to modelo/modelo.h5\n",
      "13394/13394 [==============================] - 179s 13ms/step - loss: 0.4444 - accuracy: 0.8053 - val_loss: 0.3810 - val_accuracy: 0.8344\n",
      "Epoch 21/100\n",
      "13391/13394 [============================>.] - ETA: 0s - loss: 0.4399 - accuracy: 0.8081\n",
      "Epoch 00021: val_loss improved from 0.38100 to 0.38055, saving model to modelo/modelo.h5\n",
      "13394/13394 [==============================] - 179s 13ms/step - loss: 0.4399 - accuracy: 0.8081 - val_loss: 0.3805 - val_accuracy: 0.8352\n",
      "Epoch 22/100\n",
      "13392/13394 [============================>.] - ETA: 0s - loss: 0.4366 - accuracy: 0.8097\n",
      "Epoch 00022: val_loss improved from 0.38055 to 0.37771, saving model to modelo/modelo.h5\n",
      "13394/13394 [==============================] - 179s 13ms/step - loss: 0.4366 - accuracy: 0.8097 - val_loss: 0.3777 - val_accuracy: 0.8360\n",
      "Epoch 23/100\n",
      "13392/13394 [============================>.] - ETA: 0s - loss: 0.4352 - accuracy: 0.8105\n",
      "Epoch 00023: val_loss improved from 0.37771 to 0.37474, saving model to modelo/modelo.h5\n",
      "13394/13394 [==============================] - 179s 13ms/step - loss: 0.4352 - accuracy: 0.8105 - val_loss: 0.3747 - val_accuracy: 0.8382\n",
      "Epoch 24/100\n",
      "13391/13394 [============================>.] - ETA: 0s - loss: 0.4351 - accuracy: 0.8125\n",
      "Epoch 00024: val_loss improved from 0.37474 to 0.37465, saving model to modelo/modelo.h5\n",
      "13394/13394 [==============================] - 179s 13ms/step - loss: 0.4351 - accuracy: 0.8125 - val_loss: 0.3746 - val_accuracy: 0.8381\n",
      "Epoch 25/100\n",
      "13392/13394 [============================>.] - ETA: 0s - loss: 0.4330 - accuracy: 0.8122\n",
      "Epoch 00025: val_loss improved from 0.37465 to 0.37347, saving model to modelo/modelo.h5\n",
      "13394/13394 [==============================] - 179s 13ms/step - loss: 0.4330 - accuracy: 0.8122 - val_loss: 0.3735 - val_accuracy: 0.8389\n",
      "Epoch 26/100\n",
      "13391/13394 [============================>.] - ETA: 0s - loss: 0.4290 - accuracy: 0.8146\n",
      "Epoch 00026: val_loss improved from 0.37347 to 0.37132, saving model to modelo/modelo.h5\n",
      "13394/13394 [==============================] - 179s 13ms/step - loss: 0.4290 - accuracy: 0.8146 - val_loss: 0.3713 - val_accuracy: 0.8377\n",
      "Epoch 27/100\n",
      "13394/13394 [==============================] - ETA: 0s - loss: 0.4273 - accuracy: 0.8154\n",
      "Epoch 00027: val_loss improved from 0.37132 to 0.36858, saving model to modelo/modelo.h5\n",
      "13394/13394 [==============================] - 179s 13ms/step - loss: 0.4273 - accuracy: 0.8154 - val_loss: 0.3686 - val_accuracy: 0.8402\n",
      "Epoch 28/100\n",
      "13394/13394 [==============================] - ETA: 0s - loss: 0.4256 - accuracy: 0.8171\n",
      "Epoch 00028: val_loss did not improve from 0.36858\n",
      "13394/13394 [==============================] - 179s 13ms/step - loss: 0.4256 - accuracy: 0.8171 - val_loss: 0.3693 - val_accuracy: 0.8397\n",
      "Epoch 29/100\n",
      "13393/13394 [============================>.] - ETA: 0s - loss: 0.4247 - accuracy: 0.8180\n",
      "Epoch 00029: val_loss improved from 0.36858 to 0.36674, saving model to modelo/modelo.h5\n",
      "13394/13394 [==============================] - 179s 13ms/step - loss: 0.4247 - accuracy: 0.8180 - val_loss: 0.3667 - val_accuracy: 0.8418\n",
      "Epoch 30/100\n",
      "13392/13394 [============================>.] - ETA: 0s - loss: 0.4222 - accuracy: 0.8191\n",
      "Epoch 00030: val_loss improved from 0.36674 to 0.36584, saving model to modelo/modelo.h5\n",
      "13394/13394 [==============================] - 179s 13ms/step - loss: 0.4222 - accuracy: 0.8191 - val_loss: 0.3658 - val_accuracy: 0.8429\n",
      "Epoch 31/100\n",
      "13391/13394 [============================>.] - ETA: 0s - loss: 0.4215 - accuracy: 0.8202\n",
      "Epoch 00031: val_loss improved from 0.36584 to 0.36558, saving model to modelo/modelo.h5\n",
      "13394/13394 [==============================] - 179s 13ms/step - loss: 0.4215 - accuracy: 0.8201 - val_loss: 0.3656 - val_accuracy: 0.8431\n",
      "Epoch 32/100\n",
      "13393/13394 [============================>.] - ETA: 0s - loss: 0.4204 - accuracy: 0.8192\n",
      "Epoch 00032: val_loss improved from 0.36558 to 0.36201, saving model to modelo/modelo.h5\n",
      "13394/13394 [==============================] - 179s 13ms/step - loss: 0.4204 - accuracy: 0.8192 - val_loss: 0.3620 - val_accuracy: 0.8433\n",
      "Epoch 33/100\n",
      "13392/13394 [============================>.] - ETA: 0s - loss: 0.4170 - accuracy: 0.8219\n",
      "Epoch 00033: val_loss improved from 0.36201 to 0.36111, saving model to modelo/modelo.h5\n",
      "13394/13394 [==============================] - 179s 13ms/step - loss: 0.4170 - accuracy: 0.8219 - val_loss: 0.3611 - val_accuracy: 0.8445\n",
      "Epoch 34/100\n",
      "13392/13394 [============================>.] - ETA: 0s - loss: 0.4168 - accuracy: 0.8226\n",
      "Epoch 00034: val_loss improved from 0.36111 to 0.36039, saving model to modelo/modelo.h5\n",
      "13394/13394 [==============================] - 179s 13ms/step - loss: 0.4168 - accuracy: 0.8226 - val_loss: 0.3604 - val_accuracy: 0.8446\n",
      "Epoch 35/100\n",
      "13394/13394 [==============================] - ETA: 0s - loss: 0.4147 - accuracy: 0.8241\n",
      "Epoch 00035: val_loss improved from 0.36039 to 0.35957, saving model to modelo/modelo.h5\n",
      "13394/13394 [==============================] - 179s 13ms/step - loss: 0.4147 - accuracy: 0.8241 - val_loss: 0.3596 - val_accuracy: 0.8449\n",
      "Epoch 36/100\n",
      "13391/13394 [============================>.] - ETA: 0s - loss: 0.4150 - accuracy: 0.8244\n",
      "Epoch 00036: val_loss improved from 0.35957 to 0.35788, saving model to modelo/modelo.h5\n",
      "13394/13394 [==============================] - 179s 13ms/step - loss: 0.4150 - accuracy: 0.8244 - val_loss: 0.3579 - val_accuracy: 0.8456\n",
      "Epoch 37/100\n",
      "13393/13394 [============================>.] - ETA: 0s - loss: 0.4118 - accuracy: 0.8252\n",
      "Epoch 00037: val_loss improved from 0.35788 to 0.35662, saving model to modelo/modelo.h5\n",
      "13394/13394 [==============================] - 179s 13ms/step - loss: 0.4118 - accuracy: 0.8253 - val_loss: 0.3566 - val_accuracy: 0.8452\n",
      "Epoch 38/100\n",
      "13393/13394 [============================>.] - ETA: 0s - loss: 0.4138 - accuracy: 0.8246\n",
      "Epoch 00038: val_loss did not improve from 0.35662\n",
      "13394/13394 [==============================] - 179s 13ms/step - loss: 0.4138 - accuracy: 0.8246 - val_loss: 0.3583 - val_accuracy: 0.8463\n",
      "Epoch 39/100\n",
      "13394/13394 [==============================] - ETA: 0s - loss: 0.4105 - accuracy: 0.8262\n",
      "Epoch 00039: val_loss improved from 0.35662 to 0.35587, saving model to modelo/modelo.h5\n",
      "13394/13394 [==============================] - 180s 13ms/step - loss: 0.4105 - accuracy: 0.8262 - val_loss: 0.3559 - val_accuracy: 0.8465\n",
      "Epoch 40/100\n",
      "13392/13394 [============================>.] - ETA: 0s - loss: 0.4096 - accuracy: 0.8282\n",
      "Epoch 00040: val_loss improved from 0.35587 to 0.35430, saving model to modelo/modelo.h5\n",
      "13394/13394 [==============================] - 179s 13ms/step - loss: 0.4096 - accuracy: 0.8282 - val_loss: 0.3543 - val_accuracy: 0.8473\n",
      "Epoch 41/100\n",
      "13393/13394 [============================>.] - ETA: 0s - loss: 0.4062 - accuracy: 0.8294\n",
      "Epoch 00041: val_loss improved from 0.35430 to 0.35411, saving model to modelo/modelo.h5\n",
      "13394/13394 [==============================] - 179s 13ms/step - loss: 0.4063 - accuracy: 0.8294 - val_loss: 0.3541 - val_accuracy: 0.8482\n",
      "Epoch 42/100\n",
      "13393/13394 [============================>.] - ETA: 0s - loss: 0.4035 - accuracy: 0.8296\n",
      "Epoch 00042: val_loss improved from 0.35411 to 0.35397, saving model to modelo/modelo.h5\n",
      "13394/13394 [==============================] - 179s 13ms/step - loss: 0.4035 - accuracy: 0.8296 - val_loss: 0.3540 - val_accuracy: 0.8474\n",
      "Epoch 43/100\n",
      "13394/13394 [==============================] - ETA: 0s - loss: 0.4046 - accuracy: 0.8288\n",
      "Epoch 00043: val_loss improved from 0.35397 to 0.35180, saving model to modelo/modelo.h5\n",
      "13394/13394 [==============================] - 179s 13ms/step - loss: 0.4046 - accuracy: 0.8288 - val_loss: 0.3518 - val_accuracy: 0.8482\n",
      "Epoch 44/100\n",
      "13390/13394 [============================>.] - ETA: 0s - loss: 0.4045 - accuracy: 0.8306\n",
      "Epoch 00044: val_loss did not improve from 0.35180\n",
      "13394/13394 [==============================] - 178s 13ms/step - loss: 0.4045 - accuracy: 0.8306 - val_loss: 0.3521 - val_accuracy: 0.8485\n",
      "Epoch 45/100\n",
      "13394/13394 [==============================] - ETA: 0s - loss: 0.4027 - accuracy: 0.8313\n",
      "Epoch 00045: val_loss improved from 0.35180 to 0.35092, saving model to modelo/modelo.h5\n",
      "13394/13394 [==============================] - 179s 13ms/step - loss: 0.4027 - accuracy: 0.8313 - val_loss: 0.3509 - val_accuracy: 0.8491\n",
      "Epoch 46/100\n",
      "13390/13394 [============================>.] - ETA: 0s - loss: 0.4010 - accuracy: 0.8324\n",
      "Epoch 00046: val_loss improved from 0.35092 to 0.35050, saving model to modelo/modelo.h5\n",
      "13394/13394 [==============================] - 179s 13ms/step - loss: 0.4010 - accuracy: 0.8324 - val_loss: 0.3505 - val_accuracy: 0.8486\n",
      "Epoch 47/100\n",
      "13391/13394 [============================>.] - ETA: 0s - loss: 0.4020 - accuracy: 0.8311\n",
      "Epoch 00047: val_loss improved from 0.35050 to 0.35029, saving model to modelo/modelo.h5\n",
      "13394/13394 [==============================] - 179s 13ms/step - loss: 0.4020 - accuracy: 0.8311 - val_loss: 0.3503 - val_accuracy: 0.8490\n",
      "Epoch 48/100\n",
      "13392/13394 [============================>.] - ETA: 0s - loss: 0.3982 - accuracy: 0.8330\n",
      "Epoch 00048: val_loss improved from 0.35029 to 0.34875, saving model to modelo/modelo.h5\n",
      "13394/13394 [==============================] - 179s 13ms/step - loss: 0.3982 - accuracy: 0.8331 - val_loss: 0.3488 - val_accuracy: 0.8492\n",
      "Epoch 49/100\n",
      "13394/13394 [==============================] - ETA: 0s - loss: 0.3982 - accuracy: 0.8345\n",
      "Epoch 00049: val_loss did not improve from 0.34875\n",
      "13394/13394 [==============================] - 179s 13ms/step - loss: 0.3982 - accuracy: 0.8345 - val_loss: 0.3490 - val_accuracy: 0.8496\n",
      "Epoch 50/100\n",
      "13392/13394 [============================>.] - ETA: 0s - loss: 0.3971 - accuracy: 0.8344\n",
      "Epoch 00050: val_loss improved from 0.34875 to 0.34813, saving model to modelo/modelo.h5\n",
      "13394/13394 [==============================] - 179s 13ms/step - loss: 0.3971 - accuracy: 0.8344 - val_loss: 0.3481 - val_accuracy: 0.8492\n",
      "Epoch 51/100\n",
      "13392/13394 [============================>.] - ETA: 0s - loss: 0.3960 - accuracy: 0.8341\n",
      "Epoch 00051: val_loss improved from 0.34813 to 0.34638, saving model to modelo/modelo.h5\n"
     ]
    },
    {
     "name": "stdout",
     "output_type": "stream",
     "text": [
      "13394/13394 [==============================] - 179s 13ms/step - loss: 0.3960 - accuracy: 0.8341 - val_loss: 0.3464 - val_accuracy: 0.8500\n",
      "Epoch 52/100\n",
      "13391/13394 [============================>.] - ETA: 0s - loss: 0.3940 - accuracy: 0.8358\n",
      "Epoch 00052: val_loss did not improve from 0.34638\n",
      "13394/13394 [==============================] - 179s 13ms/step - loss: 0.3940 - accuracy: 0.8358 - val_loss: 0.3481 - val_accuracy: 0.8498\n",
      "Epoch 53/100\n",
      "13393/13394 [============================>.] - ETA: 0s - loss: 0.3913 - accuracy: 0.8368\n",
      "Epoch 00053: val_loss did not improve from 0.34638\n",
      "13394/13394 [==============================] - 179s 13ms/step - loss: 0.3913 - accuracy: 0.8368 - val_loss: 0.3465 - val_accuracy: 0.8511\n",
      "Epoch 54/100\n",
      "13394/13394 [==============================] - ETA: 0s - loss: 0.3928 - accuracy: 0.8373\n",
      "Epoch 00054: val_loss improved from 0.34638 to 0.34543, saving model to modelo/modelo.h5\n",
      "13394/13394 [==============================] - 179s 13ms/step - loss: 0.3928 - accuracy: 0.8373 - val_loss: 0.3454 - val_accuracy: 0.8511\n",
      "Epoch 55/100\n",
      "13394/13394 [==============================] - ETA: 0s - loss: 0.3917 - accuracy: 0.8394\n",
      "Epoch 00055: val_loss did not improve from 0.34543\n",
      "13394/13394 [==============================] - 178s 13ms/step - loss: 0.3917 - accuracy: 0.8394 - val_loss: 0.3462 - val_accuracy: 0.8508\n",
      "Epoch 56/100\n",
      "13394/13394 [==============================] - ETA: 0s - loss: 0.3908 - accuracy: 0.8385\n",
      "Epoch 00056: val_loss did not improve from 0.34543\n",
      "13394/13394 [==============================] - 954s 71ms/step - loss: 0.3908 - accuracy: 0.8385 - val_loss: 0.3464 - val_accuracy: 0.8514\n",
      "Epoch 57/100\n",
      "13394/13394 [==============================] - ETA: 0s - loss: 0.3895 - accuracy: 0.8388\n",
      "Epoch 00057: val_loss did not improve from 0.34543\n",
      "13394/13394 [==============================] - 508s 38ms/step - loss: 0.3895 - accuracy: 0.8388 - val_loss: 0.3465 - val_accuracy: 0.8506\n",
      "Epoch 58/100\n",
      "13391/13394 [============================>.] - ETA: 0s - loss: 0.3888 - accuracy: 0.8386\n",
      "Epoch 00058: val_loss improved from 0.34543 to 0.34405, saving model to modelo/modelo.h5\n",
      "13394/13394 [==============================] - 177s 13ms/step - loss: 0.3888 - accuracy: 0.8386 - val_loss: 0.3441 - val_accuracy: 0.8521\n",
      "Epoch 59/100\n",
      "13394/13394 [==============================] - ETA: 0s - loss: 0.3862 - accuracy: 0.8401\n",
      "Epoch 00059: val_loss improved from 0.34405 to 0.34383, saving model to modelo/modelo.h5\n",
      "13394/13394 [==============================] - 181s 14ms/step - loss: 0.3862 - accuracy: 0.8401 - val_loss: 0.3438 - val_accuracy: 0.8524\n",
      "Epoch 60/100\n",
      "13392/13394 [============================>.] - ETA: 0s - loss: 0.3864 - accuracy: 0.8398\n",
      "Epoch 00060: val_loss improved from 0.34383 to 0.34242, saving model to modelo/modelo.h5\n",
      "13394/13394 [==============================] - 181s 13ms/step - loss: 0.3864 - accuracy: 0.8398 - val_loss: 0.3424 - val_accuracy: 0.8530\n",
      "Epoch 61/100\n",
      "13393/13394 [============================>.] - ETA: 0s - loss: 0.3853 - accuracy: 0.8412\n",
      "Epoch 00061: val_loss did not improve from 0.34242\n",
      "13394/13394 [==============================] - 179s 13ms/step - loss: 0.3853 - accuracy: 0.8412 - val_loss: 0.3430 - val_accuracy: 0.8530\n",
      "Epoch 62/100\n",
      "13394/13394 [==============================] - ETA: 0s - loss: 0.3846 - accuracy: 0.8403\n",
      "Epoch 00062: val_loss did not improve from 0.34242\n",
      "13394/13394 [==============================] - 179s 13ms/step - loss: 0.3846 - accuracy: 0.8403 - val_loss: 0.3425 - val_accuracy: 0.8528\n",
      "Epoch 63/100\n",
      "13393/13394 [============================>.] - ETA: 0s - loss: 0.3840 - accuracy: 0.8414\n",
      "Epoch 00063: val_loss improved from 0.34242 to 0.34139, saving model to modelo/modelo.h5\n",
      "13394/13394 [==============================] - 180s 13ms/step - loss: 0.3840 - accuracy: 0.8414 - val_loss: 0.3414 - val_accuracy: 0.8528\n",
      "Epoch 64/100\n",
      "13393/13394 [============================>.] - ETA: 0s - loss: 0.3831 - accuracy: 0.8429\n",
      "Epoch 00064: val_loss did not improve from 0.34139\n",
      "13394/13394 [==============================] - 179s 13ms/step - loss: 0.3831 - accuracy: 0.8429 - val_loss: 0.3417 - val_accuracy: 0.8529\n",
      "Epoch 65/100\n",
      "13394/13394 [==============================] - ETA: 0s - loss: 0.3794 - accuracy: 0.8429\n",
      "Epoch 00065: val_loss did not improve from 0.34139\n",
      "13394/13394 [==============================] - 179s 13ms/step - loss: 0.3794 - accuracy: 0.8429 - val_loss: 0.3427 - val_accuracy: 0.8529\n",
      "Epoch 66/100\n",
      "13391/13394 [============================>.] - ETA: 0s - loss: 0.3813 - accuracy: 0.8430\n",
      "Epoch 00066: val_loss improved from 0.34139 to 0.34072, saving model to modelo/modelo.h5\n",
      "13394/13394 [==============================] - 180s 13ms/step - loss: 0.3814 - accuracy: 0.8430 - val_loss: 0.3407 - val_accuracy: 0.8532\n",
      "Epoch 67/100\n",
      "13393/13394 [============================>.] - ETA: 0s - loss: 0.3803 - accuracy: 0.8433\n",
      "Epoch 00067: val_loss did not improve from 0.34072\n",
      "13394/13394 [==============================] - 179s 13ms/step - loss: 0.3803 - accuracy: 0.8433 - val_loss: 0.3411 - val_accuracy: 0.8539\n",
      "Epoch 68/100\n",
      "13393/13394 [============================>.] - ETA: 0s - loss: 0.3776 - accuracy: 0.8441\n",
      "Epoch 00068: val_loss improved from 0.34072 to 0.34014, saving model to modelo/modelo.h5\n",
      "13394/13394 [==============================] - 180s 13ms/step - loss: 0.3776 - accuracy: 0.8441 - val_loss: 0.3401 - val_accuracy: 0.8539\n",
      "Epoch 69/100\n",
      "13392/13394 [============================>.] - ETA: 0s - loss: 0.3782 - accuracy: 0.8447\n",
      "Epoch 00069: val_loss improved from 0.34014 to 0.34006, saving model to modelo/modelo.h5\n",
      "13394/13394 [==============================] - 180s 13ms/step - loss: 0.3782 - accuracy: 0.8447 - val_loss: 0.3401 - val_accuracy: 0.8537\n",
      "Epoch 70/100\n",
      "13390/13394 [============================>.] - ETA: 0s - loss: 0.3787 - accuracy: 0.8441\n",
      "Epoch 00070: val_loss improved from 0.34006 to 0.33868, saving model to modelo/modelo.h5\n",
      "13394/13394 [==============================] - 180s 13ms/step - loss: 0.3787 - accuracy: 0.8441 - val_loss: 0.3387 - val_accuracy: 0.8549\n",
      "Epoch 71/100\n",
      "13391/13394 [============================>.] - ETA: 0s - loss: 0.3762 - accuracy: 0.8451\n",
      "Epoch 00071: val_loss did not improve from 0.33868\n",
      "13394/13394 [==============================] - 179s 13ms/step - loss: 0.3762 - accuracy: 0.8451 - val_loss: 0.3394 - val_accuracy: 0.8542\n",
      "Epoch 72/100\n",
      "13394/13394 [==============================] - ETA: 0s - loss: 0.3744 - accuracy: 0.8455\n",
      "Epoch 00072: val_loss did not improve from 0.33868\n",
      "13394/13394 [==============================] - 179s 13ms/step - loss: 0.3744 - accuracy: 0.8455 - val_loss: 0.3388 - val_accuracy: 0.8554\n",
      "Epoch 73/100\n",
      "13390/13394 [============================>.] - ETA: 0s - loss: 0.3755 - accuracy: 0.8471\n",
      "Epoch 00073: val_loss did not improve from 0.33868\n",
      "13394/13394 [==============================] - 179s 13ms/step - loss: 0.3754 - accuracy: 0.8471 - val_loss: 0.3394 - val_accuracy: 0.8555\n",
      "Epoch 74/100\n",
      "13391/13394 [============================>.] - ETA: 0s - loss: 0.3735 - accuracy: 0.8466\n",
      "Epoch 00074: val_loss did not improve from 0.33868\n",
      "13394/13394 [==============================] - 179s 13ms/step - loss: 0.3735 - accuracy: 0.8466 - val_loss: 0.3388 - val_accuracy: 0.8560\n",
      "Epoch 75/100\n",
      "13393/13394 [============================>.] - ETA: 0s - loss: 0.3738 - accuracy: 0.8474\n",
      "Epoch 00075: val_loss improved from 0.33868 to 0.33708, saving model to modelo/modelo.h5\n",
      "13394/13394 [==============================] - 180s 13ms/step - loss: 0.3738 - accuracy: 0.8474 - val_loss: 0.3371 - val_accuracy: 0.8561\n",
      "Epoch 76/100\n",
      "13392/13394 [============================>.] - ETA: 0s - loss: 0.3726 - accuracy: 0.8477\n",
      "Epoch 00076: val_loss did not improve from 0.33708\n",
      "13394/13394 [==============================] - 179s 13ms/step - loss: 0.3726 - accuracy: 0.8477 - val_loss: 0.3374 - val_accuracy: 0.8560\n",
      "Epoch 77/100\n",
      "13393/13394 [============================>.] - ETA: 0s - loss: 0.3726 - accuracy: 0.8478\n",
      "Epoch 00077: val_loss improved from 0.33708 to 0.33665, saving model to modelo/modelo.h5\n",
      "13394/13394 [==============================] - 180s 13ms/step - loss: 0.3725 - accuracy: 0.8478 - val_loss: 0.3366 - val_accuracy: 0.8573\n",
      "Epoch 78/100\n",
      "13390/13394 [============================>.] - ETA: 0s - loss: 0.3697 - accuracy: 0.8484\n",
      "Epoch 00078: val_loss did not improve from 0.33665\n",
      "13394/13394 [==============================] - 179s 13ms/step - loss: 0.3697 - accuracy: 0.8484 - val_loss: 0.3371 - val_accuracy: 0.8564\n",
      "Epoch 79/100\n",
      "13390/13394 [============================>.] - ETA: 0s - loss: 0.3699 - accuracy: 0.8489\n",
      "Epoch 00079: val_loss did not improve from 0.33665\n",
      "13394/13394 [==============================] - 179s 13ms/step - loss: 0.3699 - accuracy: 0.8489 - val_loss: 0.3378 - val_accuracy: 0.8569\n",
      "Epoch 80/100\n",
      "13392/13394 [============================>.] - ETA: 0s - loss: 0.3709 - accuracy: 0.8487\n",
      "Epoch 00080: val_loss did not improve from 0.33665\n",
      "13394/13394 [==============================] - 179s 13ms/step - loss: 0.3709 - accuracy: 0.8487 - val_loss: 0.3377 - val_accuracy: 0.8573\n",
      "Epoch 81/100\n",
      "13394/13394 [==============================] - ETA: 0s - loss: 0.3676 - accuracy: 0.8499\n",
      "Epoch 00081: val_loss improved from 0.33665 to 0.33632, saving model to modelo/modelo.h5\n",
      "13394/13394 [==============================] - 180s 13ms/step - loss: 0.3676 - accuracy: 0.8499 - val_loss: 0.3363 - val_accuracy: 0.8569\n",
      "Epoch 82/100\n",
      "13393/13394 [============================>.] - ETA: 0s - loss: 0.3678 - accuracy: 0.8504\n",
      "Epoch 00082: val_loss improved from 0.33632 to 0.33551, saving model to modelo/modelo.h5\n",
      "13394/13394 [==============================] - 180s 13ms/step - loss: 0.3678 - accuracy: 0.8504 - val_loss: 0.3355 - val_accuracy: 0.8573\n",
      "Epoch 83/100\n",
      "13391/13394 [============================>.] - ETA: 0s - loss: 0.3667 - accuracy: 0.8498\n",
      "Epoch 00083: val_loss did not improve from 0.33551\n",
      "13394/13394 [==============================] - 179s 13ms/step - loss: 0.3667 - accuracy: 0.8498 - val_loss: 0.3366 - val_accuracy: 0.8569\n",
      "Epoch 84/100\n",
      "13393/13394 [============================>.] - ETA: 0s - loss: 0.3650 - accuracy: 0.8506\n",
      "Epoch 00084: val_loss improved from 0.33551 to 0.33540, saving model to modelo/modelo.h5\n",
      "13394/13394 [==============================] - 180s 13ms/step - loss: 0.3650 - accuracy: 0.8506 - val_loss: 0.3354 - val_accuracy: 0.8583\n",
      "Epoch 85/100\n",
      "13394/13394 [==============================] - ETA: 0s - loss: 0.3650 - accuracy: 0.8503\n",
      "Epoch 00085: val_loss improved from 0.33540 to 0.33463, saving model to modelo/modelo.h5\n",
      "13394/13394 [==============================] - 180s 13ms/step - loss: 0.3650 - accuracy: 0.8503 - val_loss: 0.3346 - val_accuracy: 0.8578\n",
      "Epoch 86/100\n",
      "13391/13394 [============================>.] - ETA: 0s - loss: 0.3632 - accuracy: 0.8511\n",
      "Epoch 00086: val_loss did not improve from 0.33463\n",
      "13394/13394 [==============================] - 179s 13ms/step - loss: 0.3632 - accuracy: 0.8511 - val_loss: 0.3367 - val_accuracy: 0.8582\n",
      "Epoch 87/100\n",
      "13392/13394 [============================>.] - ETA: 0s - loss: 0.3632 - accuracy: 0.8514\n",
      "Epoch 00087: val_loss did not improve from 0.33463\n",
      "13394/13394 [==============================] - 179s 13ms/step - loss: 0.3632 - accuracy: 0.8514 - val_loss: 0.3363 - val_accuracy: 0.8578\n",
      "Epoch 88/100\n",
      "13392/13394 [============================>.] - ETA: 0s - loss: 0.3633 - accuracy: 0.8518\n",
      "Epoch 00088: val_loss did not improve from 0.33463\n",
      "13394/13394 [==============================] - 179s 13ms/step - loss: 0.3632 - accuracy: 0.8518 - val_loss: 0.3348 - val_accuracy: 0.8584\n",
      "Epoch 89/100\n",
      "13390/13394 [============================>.] - ETA: 0s - loss: 0.3617 - accuracy: 0.8533\n",
      "Epoch 00089: val_loss did not improve from 0.33463\n",
      "13394/13394 [==============================] - 179s 13ms/step - loss: 0.3618 - accuracy: 0.8532 - val_loss: 0.3371 - val_accuracy: 0.8578\n",
      "Epoch 90/100\n",
      "13392/13394 [============================>.] - ETA: 0s - loss: 0.3605 - accuracy: 0.8535\n",
      "Epoch 00090: val_loss improved from 0.33463 to 0.33434, saving model to modelo/modelo.h5\n",
      "13394/13394 [==============================] - 180s 13ms/step - loss: 0.3605 - accuracy: 0.8535 - val_loss: 0.3343 - val_accuracy: 0.8588\n",
      "Epoch 91/100\n",
      "13392/13394 [============================>.] - ETA: 0s - loss: 0.3596 - accuracy: 0.8538\n",
      "Epoch 00091: val_loss improved from 0.33434 to 0.33380, saving model to modelo/modelo.h5\n",
      "13394/13394 [==============================] - 180s 13ms/step - loss: 0.3597 - accuracy: 0.8538 - val_loss: 0.3338 - val_accuracy: 0.8587\n",
      "Epoch 92/100\n",
      "13392/13394 [============================>.] - ETA: 0s - loss: 0.3600 - accuracy: 0.8543\n",
      "Epoch 00092: val_loss did not improve from 0.33380\n",
      "13394/13394 [==============================] - 179s 13ms/step - loss: 0.3600 - accuracy: 0.8543 - val_loss: 0.3339 - val_accuracy: 0.8592\n",
      "Epoch 93/100\n",
      "13392/13394 [============================>.] - ETA: 0s - loss: 0.3585 - accuracy: 0.8537\n",
      "Epoch 00093: val_loss did not improve from 0.33380\n",
      "13394/13394 [==============================] - 179s 13ms/step - loss: 0.3585 - accuracy: 0.8537 - val_loss: 0.3340 - val_accuracy: 0.8590\n",
      "Epoch 94/100\n",
      "13390/13394 [============================>.] - ETA: 0s - loss: 0.3564 - accuracy: 0.8538\n",
      "Epoch 00094: val_loss did not improve from 0.33380\n",
      "13394/13394 [==============================] - 179s 13ms/step - loss: 0.3564 - accuracy: 0.8538 - val_loss: 0.3361 - val_accuracy: 0.8583\n",
      "Epoch 95/100\n",
      "13392/13394 [============================>.] - ETA: 0s - loss: 0.3589 - accuracy: 0.8533\n",
      "Epoch 00095: val_loss did not improve from 0.33380\n",
      "13394/13394 [==============================] - 179s 13ms/step - loss: 0.3589 - accuracy: 0.8533 - val_loss: 0.3357 - val_accuracy: 0.8580\n",
      "Epoch 96/100\n",
      "13391/13394 [============================>.] - ETA: 0s - loss: 0.3554 - accuracy: 0.8567\n",
      "Epoch 00096: val_loss improved from 0.33380 to 0.33320, saving model to modelo/modelo.h5\n",
      "13394/13394 [==============================] - 180s 13ms/step - loss: 0.3554 - accuracy: 0.8567 - val_loss: 0.3332 - val_accuracy: 0.8599\n",
      "Epoch 97/100\n",
      "13391/13394 [============================>.] - ETA: 0s - loss: 0.3545 - accuracy: 0.8565\n",
      "Epoch 00097: val_loss improved from 0.33320 to 0.33306, saving model to modelo/modelo.h5\n",
      "13394/13394 [==============================] - 180s 13ms/step - loss: 0.3545 - accuracy: 0.8565 - val_loss: 0.3331 - val_accuracy: 0.8599\n",
      "Epoch 98/100\n",
      "13392/13394 [============================>.] - ETA: 0s - loss: 0.3543 - accuracy: 0.8558\n",
      "Epoch 00098: val_loss did not improve from 0.33306\n",
      "13394/13394 [==============================] - 179s 13ms/step - loss: 0.3543 - accuracy: 0.8558 - val_loss: 0.3331 - val_accuracy: 0.8598\n",
      "Epoch 99/100\n",
      "13392/13394 [============================>.] - ETA: 0s - loss: 0.3527 - accuracy: 0.8556\n",
      "Epoch 00099: val_loss did not improve from 0.33306\n",
      "13394/13394 [==============================] - 179s 13ms/step - loss: 0.3527 - accuracy: 0.8556 - val_loss: 0.3338 - val_accuracy: 0.8593\n",
      "Epoch 100/100\n",
      "13391/13394 [============================>.] - ETA: 0s - loss: 0.3519 - accuracy: 0.8559\n",
      "Epoch 00100: val_loss did not improve from 0.33306\n",
      "13394/13394 [==============================] - 179s 13ms/step - loss: 0.3520 - accuracy: 0.8559 - val_loss: 0.3345 - val_accuracy: 0.8584\n",
      "CPU times: user 7h 28min 9s, sys: 39min 2s, total: 8h 7min 12s\n",
      "Wall time: 5h 17min 15s\n"
     ]
    }
   ],
   "source": [
    "%%time\n",
    "history = modelo_final.fit(train_gen, \n",
    "                     steps_per_epoch = train_steps, \n",
    "                     validation_data = val_gen,\n",
    "                     validation_steps = val_steps,\n",
    "                     epochs = 100, \n",
    "                     verbose = 1,\n",
    "                     callbacks = callbacks_list)"
   ]
  },
  {
   "cell_type": "markdown",
   "id": "2ed298f2",
   "metadata": {},
   "source": [
    "### Avaliação do Modelo"
   ]
  },
  {
   "cell_type": "code",
   "execution_count": 187,
   "id": "eb746503",
   "metadata": {},
   "outputs": [
    {
     "data": {
      "text/plain": [
       "['loss', 'accuracy']"
      ]
     },
     "execution_count": 187,
     "metadata": {},
     "output_type": "execute_result"
    }
   ],
   "source": [
    "# Obtém a lista de métricas disponíveis\n",
    "modelo_final.metrics_names"
   ]
  },
  {
   "cell_type": "code",
   "execution_count": 188,
   "id": "d17383ef",
   "metadata": {},
   "outputs": [],
   "source": [
    "# Carrega o modelo treinado\n",
    "modelo_final.load_weights('modelo/modelo.h5')"
   ]
  },
  {
   "cell_type": "code",
   "execution_count": 189,
   "id": "6dd60a64",
   "metadata": {},
   "outputs": [
    {
     "name": "stdout",
     "output_type": "stream",
     "text": [
      "23636/23636 [==============================] - 107s 5ms/step - loss: 0.3429 - accuracy: 0.8520\n"
     ]
    }
   ],
   "source": [
    "# Extrai o erro e a acurácia\n",
    "val_loss, val_acc = modelo_final.evaluate(test_gen, steps = len(df_imagens_valid))"
   ]
  },
  {
   "cell_type": "code",
   "execution_count": 190,
   "id": "394a88b3",
   "metadata": {},
   "outputs": [
    {
     "name": "stdout",
     "output_type": "stream",
     "text": [
      "Erro: 0.3429187536239624\n",
      "Acurácia: 0.8519631028175354\n"
     ]
    }
   ],
   "source": [
    "# Print\n",
    "print('Erro:', val_loss)\n",
    "print('Acurácia:', val_acc)"
   ]
  },
  {
   "cell_type": "code",
   "execution_count": 191,
   "id": "da5b21c4",
   "metadata": {},
   "outputs": [
    {
     "data": {
      "text/plain": [
       "<Figure size 432x288 with 0 Axes>"
      ]
     },
     "execution_count": 191,
     "metadata": {},
     "output_type": "execute_result"
    },
    {
     "data": {
      "image/png": "[encoded data removed]",
      "text/plain": [
       "<Figure size 432x288 with 1 Axes>"
      ]
     },
     "metadata": {
      "needs_background": "light"
     },
     "output_type": "display_data"
    },
    {
     "data": {
      "image/png": "[encoded data removed]",
      "text/plain": [
       "<Figure size 432x288 with 1 Axes>"
      ]
     },
     "metadata": {
      "needs_background": "light"
     },
     "output_type": "display_data"
    },
    {
     "data": {
      "text/plain": [
       "<Figure size 432x288 with 0 Axes>"
      ]
     },
     "metadata": {},
     "output_type": "display_data"
    }
   ],
   "source": [
    "# Plot das métricas\n",
    "acc = history.history['accuracy']\n",
    "val_acc = history.history['val_accuracy']\n",
    "loss = history.history['loss']\n",
    "val_loss = history.history['val_loss']\n",
    "\n",
    "epochs = range(1, len(acc) + 1)\n",
    "\n",
    "plt.plot(epochs, loss, 'bo', label = 'Erro em Treinamento')\n",
    "plt.plot(epochs, val_loss, 'b', label = 'Erro em Validação')\n",
    "plt.title('Erro em Treinamento e Validação')\n",
    "plt.legend()\n",
    "plt.figure()\n",
    "\n",
    "plt.plot(epochs, acc, 'bo', label = 'Acurácia em Treino')\n",
    "plt.plot(epochs, val_acc, 'b', label = 'Acurácia em Validação')\n",
    "plt.title('Acurácia em Treinamento e Validação')\n",
    "plt.legend()\n",
    "plt.figure()"
   ]
  },
  {
   "cell_type": "markdown",
   "id": "89db8b02",
   "metadata": {},
   "source": [
    "### Fazendo Previsões"
   ]
  },
  {
   "cell_type": "code",
   "execution_count": 200,
   "id": "dee0fea5",
   "metadata": {},
   "outputs": [
    {
     "name": "stdout",
     "output_type": "stream",
     "text": [
      "26788/26788 [==============================] - 68s 3ms/step\n"
     ]
    }
   ],
   "source": [
    "# Fazendo previsões\n",
    "previsoes = modelo_final.predict(test_gen, steps = len(df_imagens_test), verbose = 1)"
   ]
  },
  {
   "cell_type": "code",
   "execution_count": 201,
   "id": "0d305b8e",
   "metadata": {},
   "outputs": [
    {
     "data": {
      "text/plain": [
       "(26788, 2)"
      ]
     },
     "execution_count": 201,
     "metadata": {},
     "output_type": "execute_result"
    }
   ],
   "source": [
    "# Shape\n",
    "previsoes.shape"
   ]
  },
  {
   "cell_type": "code",
   "execution_count": 202,
   "id": "72699b72",
   "metadata": {},
   "outputs": [
    {
     "data": {
      "text/plain": [
       "{'a_no_idc': 0, 'b_has_idc': 1}"
      ]
     },
     "execution_count": 202,
     "metadata": {},
     "output_type": "execute_result"
    }
   ],
   "source": [
    "# Aqui verificamos qual índice o Keras atribuiu internamente a cada classe\n",
    "test_gen.class_indices"
   ]
  },
  {
   "cell_type": "code",
   "execution_count": 203,
   "id": "855eb2b3",
   "metadata": {},
   "outputs": [
    {
     "data": {
      "text/html": [
       "<div>\n",
       "<style scoped>\n",
       "    .dataframe tbody tr th:only-of-type {\n",
       "        vertical-align: middle;\n",
       "    }\n",
       "\n",
       "    .dataframe tbody tr th {\n",
       "        vertical-align: top;\n",
       "    }\n",
       "\n",
       "    .dataframe thead th {\n",
       "        text-align: right;\n",
       "    }\n",
       "</style>\n",
       "<table border=\"1\" class=\"dataframe\">\n",
       "  <thead>\n",
       "    <tr style=\"text-align: right;\">\n",
       "      <th></th>\n",
       "      <th>no_idc</th>\n",
       "      <th>has_idc</th>\n",
       "    </tr>\n",
       "  </thead>\n",
       "  <tbody>\n",
       "    <tr>\n",
       "      <th>0</th>\n",
       "      <td>0.772649</td>\n",
       "      <td>0.227351</td>\n",
       "    </tr>\n",
       "    <tr>\n",
       "      <th>1</th>\n",
       "      <td>0.999836</td>\n",
       "      <td>0.000164</td>\n",
       "    </tr>\n",
       "    <tr>\n",
       "      <th>2</th>\n",
       "      <td>0.963460</td>\n",
       "      <td>0.036541</td>\n",
       "    </tr>\n",
       "    <tr>\n",
       "      <th>3</th>\n",
       "      <td>0.133901</td>\n",
       "      <td>0.866099</td>\n",
       "    </tr>\n",
       "    <tr>\n",
       "      <th>4</th>\n",
       "      <td>0.288549</td>\n",
       "      <td>0.711451</td>\n",
       "    </tr>\n",
       "  </tbody>\n",
       "</table>\n",
       "</div>"
      ],
      "text/plain": [
       "     no_idc   has_idc\n",
       "0  0.772649  0.227351\n",
       "1  0.999836  0.000164\n",
       "2  0.963460  0.036541\n",
       "3  0.133901  0.866099\n",
       "4  0.288549  0.711451"
      ]
     },
     "execution_count": 203,
     "metadata": {},
     "output_type": "execute_result"
    }
   ],
   "source": [
    "# Converte as previsões em dataframes\n",
    "df_preds = pd.DataFrame(previsoes, columns = ['no_idc', 'has_idc'])\n",
    "df_preds.head()"
   ]
  },
  {
   "cell_type": "code",
   "execution_count": 204,
   "id": "1956925a",
   "metadata": {},
   "outputs": [],
   "source": [
    "# Obtém os labels\n",
    "y_true = test_gen.classes"
   ]
  },
  {
   "cell_type": "code",
   "execution_count": 205,
   "id": "0ac08984",
   "metadata": {},
   "outputs": [],
   "source": [
    "# Obtém as previsões como probabilidades\n",
    "y_pred = df_preds['has_idc']"
   ]
  },
  {
   "cell_type": "code",
   "execution_count": 206,
   "id": "10da3314",
   "metadata": {},
   "outputs": [
    {
     "data": {
      "text/plain": [
       "0.9327575174288926"
      ]
     },
     "execution_count": 206,
     "metadata": {},
     "output_type": "execute_result"
    }
   ],
   "source": [
    "# Score AUC\n",
    "roc_auc_score(y_true, y_pred)"
   ]
  },
  {
   "cell_type": "code",
   "execution_count": 222,
   "id": "96f769bd",
   "metadata": {},
   "outputs": [],
   "source": [
    "# Função do Plot da CM\n",
    "def plot_confusion_matrix(cm, \n",
    "                          classes,\n",
    "                          normalize = False,\n",
    "                          title = 'Confusion matrix',\n",
    "                          cmap  =plt.cm.Blues):\n",
    "\n",
    "    #if normalize:\n",
    "        #cm = cm.astype('float') / cm.sum(axis=1)[:, np.newaxis]\n",
    "        #print(\"Matriz de Confusão Normalizada\")\n",
    "   # else:\n",
    "        #print('Matriz de Confusão Não Normalizada')\n",
    "\n",
    "    #print(cm)\n",
    "\n",
    "    plt.imshow(cm, interpolation='nearest', cmap=cmap)\n",
    "    plt.title(title)\n",
    "    plt.colorbar()\n",
    "    tick_marks = np.arange(len(classes))\n",
    "    plt.xticks(tick_marks, classes, rotation=45)\n",
    "    plt.yticks(tick_marks, classes)\n",
    "\n",
    "    fmt = '.2f' if normalize else 'd'\n",
    "    thresh = cm.max() / 2.\n",
    "    for i, j in itertools.product(range(cm.shape[0]), range(cm.shape[1])):\n",
    "        plt.text(j, i, format(cm[i, j], fmt), \n",
    "                 horizontalalignment = \"center\", \n",
    "                 color = \"white\" if cm[i, j] > thresh else \"black\")\n",
    "\n",
    "    plt.ylabel('Classe Original')\n",
    "    plt.xlabel('Classe Prevista')\n",
    "    plt.tight_layout()"
   ]
  },
  {
   "cell_type": "code",
   "execution_count": 223,
   "id": "09b8d0ad",
   "metadata": {},
   "outputs": [],
   "source": [
    "# Obtém os labels\n",
    "test_labels = test_gen.classes"
   ]
  },
  {
   "cell_type": "code",
   "execution_count": 224,
   "id": "8bb288c4",
   "metadata": {},
   "outputs": [
    {
     "data": {
      "text/plain": [
       "(26788,)"
      ]
     },
     "execution_count": 224,
     "metadata": {},
     "output_type": "execute_result"
    }
   ],
   "source": [
    "# Shape\n",
    "test_labels.shape"
   ]
  },
  {
   "cell_type": "code",
   "execution_count": 225,
   "id": "b372cd80",
   "metadata": {},
   "outputs": [],
   "source": [
    "# Retorna o índice da maior probabilidade\n",
    "cm = confusion_matrix(test_labels, previsoes.argmax(axis = 1))"
   ]
  },
  {
   "cell_type": "code",
   "execution_count": 226,
   "id": "9949c7ac",
   "metadata": {},
   "outputs": [
    {
     "data": {
      "text/plain": [
       "{'a_no_idc': 0, 'b_has_idc': 1}"
      ]
     },
     "execution_count": 226,
     "metadata": {},
     "output_type": "execute_result"
    }
   ],
   "source": [
    "# Print \n",
    "test_gen.class_indices"
   ]
  },
  {
   "cell_type": "code",
   "execution_count": 227,
   "id": "2bb24caf",
   "metadata": {},
   "outputs": [],
   "source": [
    "# Define os labels\n",
    "cm_plot_labels = ['no_idc', 'has_idc']"
   ]
  },
  {
   "cell_type": "code",
   "execution_count": 228,
   "id": "b11632f0",
   "metadata": {},
   "outputs": [
    {
     "data": {
      "image/png": "[encoded data removed]",
      "text/plain": [
       "<Figure size 432x288 with 2 Axes>"
      ]
     },
     "metadata": {
      "needs_background": "light"
     },
     "output_type": "display_data"
    }
   ],
   "source": [
    "# Plot\n",
    "plot_confusion_matrix(cm, cm_plot_labels, title = 'Matriz de Confusão')"
   ]
  },
  {
   "cell_type": "code",
   "execution_count": 229,
   "id": "b1f35c8a",
   "metadata": {},
   "outputs": [
    {
     "name": "stdout",
     "output_type": "stream",
     "text": [
      "              precision    recall  f1-score   support\n",
      "\n",
      "      no_idc       0.86      0.85      0.86     13394\n",
      "     has_idc       0.85      0.86      0.86     13394\n",
      "\n",
      "    accuracy                           0.86     26788\n",
      "   macro avg       0.86      0.86      0.86     26788\n",
      "weighted avg       0.86      0.86      0.86     26788\n",
      "\n"
     ]
    }
   ],
   "source": [
    "# Relatório de classificação\n",
    "y_pred_binary = previsoes.argmax(axis = 1)\n",
    "report = classification_report(y_true, y_pred_binary, target_names = cm_plot_labels)\n",
    "print(report)"
   ]
  },
  {
   "cell_type": "markdown",
   "id": "6bcd18b5",
   "metadata": {},
   "source": [
    "### Prepara o Modelo Para o Deploy"
   ]
  },
  {
   "cell_type": "code",
   "execution_count": 5,
   "id": "5a06a7d0",
   "metadata": {},
   "outputs": [],
   "source": [
    "# Instala o TensorFlow.js\n",
    "!pip install -q tensorflowjs"
   ]
  },
  {
   "cell_type": "code",
   "execution_count": 6,
   "id": "fccf3ec5",
   "metadata": {},
   "outputs": [
    {
     "name": "stdout",
     "output_type": "stream",
     "text": [
      "2022-07-25 05:58:28.264163: I tensorflow/stream_executor/platform/default/dso_loader.cc:48] Successfully opened dynamic library libcudart.so.10.1\r\n"
     ]
    }
   ],
   "source": [
    "# Converte o modelo do formato Keras para TensorFlow.js\n",
    "!tensorflowjs_converter --input_format keras modelo/modelo.h5 tfjs_modelo_1/modelo"
   ]
  },
  {
   "cell_type": "code",
   "execution_count": null,
   "id": "6a5bea58",
   "metadata": {},
   "outputs": [],
   "source": []
  }
 ],
 "metadata": {
  "kernelspec": {
   "display_name": "Python 3 (ipykernel)",
   "language": "python",
   "name": "python3"
  },
  "language_info": {
   "codemirror_mode": {
    "name": "ipython",
    "version": 3
   },
   "file_extension": ".py",
   "mimetype": "text/x-python",
   "name": "python",
   "nbconvert_exporter": "python",
   "pygments_lexer": "ipython3",
   "version": "3.7.6"
  }
 },
 "nbformat": 4,
 "nbformat_minor": 5
}
